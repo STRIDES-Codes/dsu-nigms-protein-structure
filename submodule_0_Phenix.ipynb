{
 "cells": [
  {
   "cell_type": "markdown",
   "id": "d31e5533-f30c-4c91-abe6-a59446229260",
   "metadata": {},
   "source": [
    "# Phenix Startup Guide"
   ]
  },
  {
   "cell_type": "markdown",
   "id": "4520e8ad-5726-4550-a3da-2115d478371a",
   "metadata": {},
   "source": [
    "## Register For Phenix \n",
    "The first step for launching Phenix is to register for an account, https://phenix-online.org/passreq/ <br>\n",
    "Once you recieve an email from Phenix-access with download details. \n"
   ]
  },
  {
   "cell_type": "markdown",
   "id": "5f59f660-43c9-47ab-8789-f52ccb7505e7",
   "metadata": {},
   "source": [
    "## Making request with proper credentials\n",
    "Once you recieve an email from Phenix-access with download details then set the credentials and submit a deployment request. <br>\n"
   ]
  },
  {
   "cell_type": "code",
   "execution_count": null,
   "id": "b759ef7f-637f-439d-be12-b5c1a27e3427",
   "metadata": {},
   "outputs": [],
   "source": [
    "import requests\n",
    "import json"
   ]
  },
  {
   "cell_type": "code",
   "execution_count": null,
   "id": "d68367ee-a57a-4ee1-bffd-fd380d0e52c4",
   "metadata": {},
   "outputs": [],
   "source": [
    "verify = 'https://4e07imp4v2.execute-api.us-east-1.amazonaws.com/v0/verify'\n",
    "status = 'https://4e07imp4v2.execute-api.us-east-1.amazonaws.com/v0/status'"
   ]
  },
  {
   "cell_type": "code",
   "execution_count": null,
   "id": "ba5d0e7c-5a46-41c8-b124-036bf9f55baa",
   "metadata": {},
   "outputs": [],
   "source": [
    "%%javascript\n",
    "// Send data\n",
    "\n",
    "fetch( 'https://api64.ipify.org/')\n",
    "  .then(\n",
    "    response => response.text()\n",
    "  ).then(\n",
    "    text => element.append(\"ip='\"+text+\"'\")\n",
    "  );"
   ]
  },
  {
   "cell_type": "code",
   "execution_count": null,
   "id": "c228956d-8114-40f9-8850-d18ef96494e2",
   "metadata": {},
   "outputs": [],
   "source": [
    "creds = {\n",
    "    \"email_address\": \"\",\n",
    "    \"platform\": \"AWS\",\n",
    "    \"account_id\": \"575108950127\",\n",
    "    \"ip_address\": \"\"\n",
    "}"
   ]
  },
  {
   "cell_type": "markdown",
   "id": "910fa815-08ec-4abb-8347-52cad8c043e0",
   "metadata": {},
   "source": [
    "<div class=\"alert alert-block alert-danger\"> <b>Attention:</b> Make sure to add your i.p. and email to the credential dictonary</a>. </div> <br>"
   ]
  },
  {
   "cell_type": "code",
   "execution_count": null,
   "id": "c1f7ba5d-77c0-4fd2-8de8-287e7425de94",
   "metadata": {},
   "outputs": [],
   "source": [
    "def phenix_request(obj, req_type):\n",
    "    response = requests.post(req_type, data=json.dumps(obj))\n",
    "    return json.loads(response.text)"
   ]
  },
  {
   "cell_type": "code",
   "execution_count": null,
   "id": "250280d4-9113-46f7-944b-f390c3507824",
   "metadata": {},
   "outputs": [],
   "source": [
    "phenix_request(creds, verify)"
   ]
  },
  {
   "cell_type": "markdown",
   "id": "171c8515-e48c-4c7a-ab49-8a3f12984d2b",
   "metadata": {},
   "source": [
    "## Submit *Status* Request\n",
    "Submit the following cell to check on the status until Phenix is up and running and connect using the provided link. "
   ]
  },
  {
   "cell_type": "code",
   "execution_count": null,
   "id": "49ce5b6d-14b2-4d9e-bad0-04e8f19a1952",
   "metadata": {},
   "outputs": [],
   "source": [
    "phenix_request(creds, status)"
   ]
  }
 ],
 "metadata": {
  "kernelspec": {
   "display_name": "conda_pytorch_p310",
   "language": "python",
   "name": "conda_pytorch_p310"
  },
  "language_info": {
   "codemirror_mode": {
    "name": "ipython",
    "version": 3
   },
   "file_extension": ".py",
   "mimetype": "text/x-python",
   "name": "python",
   "nbconvert_exporter": "python",
   "pygments_lexer": "ipython3",
   "version": "3.10.14"
  }
 },
 "nbformat": 4,
 "nbformat_minor": 5
}
