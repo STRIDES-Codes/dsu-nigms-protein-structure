{
 "cells": [
  {
   "cell_type": "markdown",
   "metadata": {},
   "source": [
    "# Submodule 3 – Protein Modeling with COOT"
   ]
  },
  {
   "cell_type": "markdown",
   "metadata": {},
   "source": [
    "\n",
    "## Overview\n",
    "Once diffraction data have been processed into an interpretable map model building can begin. Whether the data were anomalous, and a preliminary structure was built using AutoSol, or molecular replacement with a search model was used, the process of model building and refinement is the final step to acquiring a completed structure. For this section we will be using a molecular graphics program designed for macromolecular model building called the Crystallographic Object-Oriented Toolkit, better known simply as Coot. It can run on Linux, PC, and Mac platforms. Running Coot on a PC simply involves downloading and running a WinCoot.exe file. The easiest way to get Coot running on a Mac is to download the Collaborative Computational Project Number 4 (CCP4) suite of programs. CCP4 includes several programs used in macromolecular crystallography in addition to COOT and integrates well with Mac OS. It can also be installed using the software package manager Homebrew, but this is more complicated. COOT has been around since 2004 and has widely replaced other model building programs due to its ease of use and stability. Amino acids can be added, deleted, and structurally changed in accordance with the electron density maps calculated from x-ray data. The maps are used as a guide on how to position the atoms in the structure. Each residue in the structure is visually inspected and corrected as needed to match the electron density map. Once the model has been built it is refined in Phenix. The outputs of this refinement process are an improved structure and electron density maps. Then the process starts over until further improvements to the structure cannot be made. The final structure is then validated for deposit into the Protein Data Bank (PDB)."
   ]
  },
  {
   "cell_type": "markdown",
   "metadata": {
    "tags": []
   },
   "source": [
    "## Learning Objectives\n",
    "- Learn how to use COOT to build models using electron density maps from x-ray diffraction data. \n",
    "- Use Phenix to refine structures.\n",
    "- Prepare a final model for deposition into the PDB."
   ]
  },
  {
   "cell_type": "markdown",
   "metadata": {
    "tags": []
   },
   "source": [
    "## Prerequisites\n",
    "- Phenix Account setup \n",
    "- Completion of submodules 1 & 2\n",
    "- Background reading on COOT:\n",
    "    + [COOT Documentation](https://phenix-online.org/documentation/coot.html)\n",
    "    + [Emsley et al (2004)](https://pubmed.ncbi.nlm.nih.gov/15572765/)\n",
    "    + [Emsley et al (2010)](https://pubmed.ncbi.nlm.nih.gov/20383002/)"
   ]
  },
  {
   "cell_type": "markdown",
   "metadata": {},
   "source": [
    "------------\n",
    "## Activity 1 - Model Building\n",
    "\n",
    "#### Step 1 - Pull data files.\n",
    "First we will need to pull the Lysozyme_incomplete.pdb, Lysozyme_phases.mtz, Lysozyme_fasta_sequence.txt. These can be obtained by running the following code to pull from a public S3 bucket."
   ]
  },
  {
   "cell_type": "code",
   "execution_count": null,
   "metadata": {
    "tags": []
   },
   "outputs": [],
   "source": [
    "!aws s3 cp s3://protein-crystallography/submodule3/Lysozyme Data/Lysozyme --recursive"
   ]
  },
  {
   "cell_type": "markdown",
   "metadata": {},
   "source": [
    "### Step 2 - Generate electron density maps. \n",
    "**Step 2.1** - Load the .pdb file into COOT by choosing: <br>\n",
    "    `File -> Open Coordinates` \n",
    "+ Electron density maps are calculated using a .mtz file containing diffraction data. \n",
    "        \n",
    "**Step 2.2** - Maps are automatically calculated by selecting: <br>\n",
    "    `File -> Auto Open MTZ` \n",
    "\n",
    "**Step 2.3** - Observe the output. Two maps will appear, one with blue density, and another with green and red density. The blue map is called a 2FO-FC map and the green (positive) and red (negative) densities are from a FO-FC map, or difference map. The term FO  refers to phases taken from the observed data, which in x-ray crystallography is the diffraction data collected from crystals. The term FC refers to the phases calculated from the model that has been built. This can be done because any 3-dimentional structure can be converted to phases and amplitudes using a Fourier transform, just like how a Fourier transform was used to take phase and amplitude data to make maps and solve the structure. The first calculated structure was the model that resulted from solving the structure. It provides the phases for the FC portion of the 2FO-FC map. The 2 in front FO in the 2FO-FC map means the contribution of the observed phases is doubled and the minus sign shows that the calculated phases are subtracted. Ultimately what this map displays is where electron density is found in our structure. That map is used to build the atomic coordinates of amino acid residues and ligands like small molecules, ions, and water. An FO-FC map has less detail because it only shows where the observed and calculated phases differ. For example, if the observed and calculated data matched perfectly, this map would be completely empty. However, some areas of the observed and calculated phases differ slightly, so this kind of map can be useful for building in areas where the density from the 2FO-FC map alone is hard to interpret. In general, we use the Auto Open MTZ feature to quickly calculate electron density maps with the 2FO-FC map being used the most for model building. <br>\n",
    "\n",
    "**Step 2.3** - Once the model and maps have been loaded into Coot, we will turn off the FO-FC map for clarity. While this map is useful, for an introduction to building models into density the 2FO-FC map will suffice for practice. This is done by clicking on Display Manager and turning the display off for the second map.  <br>\n",
    "Display Manager: <br>\n",
    "\n",
    "<center><img src='images/submod_3/display.png'\n",
    "     align='middle'\n",
    "     width='600'/> </center><br><br>\n",
    "\n",
    "There are two sections in the Display Manager: Maps and Molecules. In this example the 2FO-FC map is listed as Map 1 and has the scroll function enabled. This allows the user to increase or decrease the map contour level (related to the signal to noise) of the map using the scroll function on a mouse or trackball. <br>\n",
    "With the FO-FC map off, hit “OK”. Next, hit the space bar to go to the first residue on the N-terminus which is a glutamate in position 7. \n",
    "     \n",
    "\n",
    "**Step 2.4** - Move the structure around in COOT by performing the following: \n",
    "+ `Control + space bar` advances the structure one amino acid residue forward.\n",
    "+ `space bar + Shift` will move the structure backward one amino acid residue.\n",
    "+ Holding down the `right click` button allows for rotation of the structure\n",
    "+ `Shift + right click` allows to zoom in and out.\n",
    "+ Hold down `Control` and the `right click button` while moving the mouse to slab in and out. \n",
    "\n",
    "*Note: We can see from the image below that this area has clear density (white arrows) with no model built in yet.*\n",
    "\n",
    "<center><img src='images/submod_3/uncomplete.png'\n",
    "     align='middle'\n",
    "     width='600'/> </center>\n",
    "     \n",
    "Before proceeding, three particularly useful radio buttons are highlighted in the top left of the figure that streamline building and viewing a model. These are the Display Manager (red arrow), Go To Atom (orange arrow), and Go To (Next) Ligand (yellow arrow)\n",
    "\n",
    "### Step 3 - Move To Atom. \n",
    "The Go To Atom window displays the molecule, chain and atom name of every atom in the model. There is an expandable option under each chain that will list every residue and ligand in the structure. This model only has one chain – Chain A – but if multiple chains are present, they would be listed here under Chains by Chain ID. \n",
    "\n",
    "<center><img src='images/submod_3/atom_select.png'\n",
    "     align='middle'\n",
    "     width='600'/> </center><br><br>\n",
    "\n",
    "This feature does not open another window. It simply orients the structure around the first ligand bound to the structure. Clicking on it repeatedly will toggle through all ligands found in the .pdb structure file. This particular structure of incomplete lysozyme has no ligands, but if the ligand is a substrate or inhibitor, this feature will orient the structure right at the binding site.\n",
    "\n",
    "There is a dropdown menu next to Molecule that can be used to select the appropriate structure if more than one has been loaded into Coot.\n",
    "\n",
    "\n",
    "### Step 4 - Add Residue\n",
    "To begin building into the electron density use the menu to the right. It has several features that are used to build the structure. We can see that the structure has clear density for amino acid residues on the N-terminus, so to build them in we choose “Add Terminal Residue”. This automatically adds an alanine to the model at the N-terminus, and positions it in the electron density. Alanine is always used to add to the terminus of the model, but if alanine is not the correct residue it will have to be changed/mutated to the correct one in the next step. Below is the updated structure with the alanine residue.\n",
    "\n",
    "\n",
    "<center><img src='images/submod_3/updated_structure.png'\n",
    "     align='middle'\n",
    "     width='600'/></center>\n",
    "\n",
    "The β-carbon of the newly added alanine is pointing into another lobe of electron density larger than the -CH3 sidechain. Therefore, we can see this residue isn’t alanine, so it will have to be changed. It is a good idea to keep the sequence of the protein handy to check what the correct amino acid is while building. The FASTA sequence for this protein is:<br>\n",
    "KVFGRCELAA AMKRHGLDNY RGYSLGNWVC AAKFESNFNT QATNRNTDGS TDYGILQINS <br>\n",
    "RWWCNDGRTP GSRNLCNIPC SALLSSDITA SVNCAKKIVS DGNGMNAWVA WRNRCKGTDV <br>\n",
    "QAWIRGCRL <br><br>\n",
    "Note: Each block is 10 amino acids\n",
    "\n",
    "### Step 5 - Mutate Residue.\n",
    "From this sequence we can see that the correct residue is a cysteine. First, center on the new residue by hitting `Shift+Space` (which moves the structure back one residue) or using the Go to Atom feature. Next, click on the Mutate & Auto-Fit button and choose CYS (C) from the drop-down menu. Since this map is very clear, the residue is added to the density with the correct orientation. However, in areas where the density is poor, adding a terminal residue may not position it correctly. We will see examples of this later, and when that happens the residue must be manually moved to the correct atomic positions using the electron density map as a guide. After adding the cysteine residue, it appears that there is still some electron density not accounted for next to the sulfur atom. This is because this structure has a cystine crosslink, and the other cysteine residue has not been built into the structure yet. Once the other Cys residue has been added both Cys residues will automatically be crosslinked. \n",
    "\n",
    "<center><img src='images/submod_3/crosslink.png'\n",
    "     align='middle'\n",
    "     width='400'/></center>\n",
    "     \n",
    "### Step 6 - Repeat, Fill Out Remaining Residues .\n",
    "Follow this procedure for every remaining residue on the N-terminus until the map is no longer interpretable. Sometimes it is possible to build the structure to the first residue, but often the N-terminus is disordered, so many of these residues must be left out of the final structure. Occasionally, if the protein has a tag on the N-terminus such as a His-tag or SUMOylation, there will be residues past the first that can be built as well. The residue numbers will continue to decrease by one as additional N-terminal residues are built. This can result in a zero and negatively numbered residues for the purpose of keeping track of which residues are part of the protein sequence and which are part of the tag. Build as much of the structure as possible since all of it is part of the final structure that will improve refinement statistics and maps. <br><br>\n",
    "\n",
    "Everything should run smoothly until residue 3 is added. If the phenyl ring of Phe does not get placed properly, we will have to fix it. This is done by clicking on Refine from the menu on the right then Refine RSR Residue. This will automatically reposition the atoms of the Phe residue in the density. \n",
    "\n",
    "<center><img src='images/submod_3/phenyl_ring.png'\n",
    "     align='middle'\n",
    "     width='600'/></center>\n",
    "\n",
    "If additional changes need to be made, the atoms can be moved to the correct place in the map by clicking and dragging the appropriate atom to its correct position. Larger areas of the model can be adjusted by clicking on Refine and choosing Refine Sphere. This will refine a larger area of the structure including several residues. Often this is necessary to adjust the backbone atoms since adjacent residues affect φ and ψ angles. <br><br>\n",
    "\n",
    "he final residue is a Lys. If all but the amine group is oriented correctly it can be fixed by using the Edit Chi Angles feature in the menu to the right. With the model centered on the final lysing residue click on Edit Chi Angles. An Edit Chi Angles window pops up with each sigma bond indicated that can be rotated. For this example chi4 must be selected to move the amine group into the density. Clicking in the window and moving the mouse will rotate about the selected bond. Once the orientation is correct click Accept to finalize the change. Sometimes it is necessary to look at the new structure from a different angle to be sure the rotation was done correctly. Additional adjustments are done the same way.<br><br>\n",
    "\n",
    "<center><img src='images/submod_3/terminal.png'\n",
    "     align='middle'\n",
    "     width='600'/></center>\n",
    "     \n"
   ]
  },
  {
   "attachments": {},
   "cell_type": "markdown",
   "metadata": {},
   "source": [
    "---------\n",
    "## Activity 2 - Model Refinement Using Phenix\n",
    "Once all the residues have been added to the structure we can refine it using Phenix. \n",
    "\n",
    "### Before Starting\n",
    "Go through the remaining molecule and build in any missing amino acid residues using the electron density map and FASTA sequence as guides. There is one large section missing, so use the add terminal residue feature to fill in the gap. Some residues will not be added with the correct orientation, so use the `Real Space Refine Zone` function to correct the atomic positions. <br>\n",
    "\n",
    "\n",
    "### Step 1. Save the coordinates.\n",
    "First, save the coordinates. Coot will automatically give a different name to each new *.pdb* file so that no structure is overwritten. The output should read `Lysozyme_incomplete-coot-0.pdb`. \n",
    "\n",
    "### Step 2. Begin model refinement.\n",
    "**Step 1.1** - Open Phenix and `select phenix.refine` under `Refinement`. This will open a window where files are added and parameters for refinement can be changed. <br>\n",
    "**Step 1.2** - Enter the *.mtz* file that was used in COOT to make electron density maps as well as the `Lysozyme_incomplete-coot-0.pdb` file that has the new residues built in. <br>\n",
    "\n",
    "<center><img src='images/submod_3/submod3_image9.png'\n",
    "     align='middle'\n",
    "     width='600'/> </center>\n",
    "\n",
    "### Step 3. Select refinement settings.\n",
    "As before, Phenix will automatically recognize each file and fill in the relevant information from each. Next, go to the `Refinement settings` tab and toggle on the `Update waters` option. This will add water molecules to the model and will improve the refinement. There are many other options to consider like using noncrystallographic symmetry (NCS works when there are more than one copy of a protein in the asymmetric unit. Here we only have one, so we cannot use it), and employing simulated annealing, as well as parameters in the water picking process that can be changed. \n",
    "\n",
    "<center><img src='images/submod_3/submod3_image10.png'\n",
    "     align='middle'\n",
    "     width='600'/> </center>\n",
    "\n",
    "<center><img src='images/submod_3/submod3_image11.png'\n",
    "     align='middle'\n",
    "     width='600'/> </center>\n",
    "\n",
    "### Step 3. Run refinement.\n",
    "For now, we will leave everything in the default settings except for updating the waters. Once this is done click on `Run` and `Run now` for refinement to begin. Two windows will appear. The first is a graph tracking the refinement statistics, as shown below:\n",
    "\n",
    "<center><img src='images/submod_3/submod3_image12.png'\n",
    "     align='middle'\n",
    "     width='600'/> </center>\n",
    "\n",
    "The second window is COOT with the structure and electron density maps generated during the refinement process, as shown below:\n",
    "<center><img src='images/submod_3/submod3_image13.png'\n",
    "     align='middle'\n",
    "     width='600'/> </center>\n",
    "     \n",
    "From the refinement window (shown below) we can see that the R-work and R-free values are initially *38.87* and *36.10*, respectively. These numbers will drop as the refinement process continues.\n",
    "<center><img src='images/submod_3/submod3_image14.png'\n",
    "     align='middle'\n",
    "     width='600'/> </center>\n",
    "\n",
    "### Step 4. Visualize refinement output.\n",
    "Once the process has completed, we can see the refinement statistics have improved, and Phenix has written out refined .pdb and .mtz files. Clicking on `Open in Coot` (see image above) will display the refined structure and maps that can be used to make improvements to the model. The refinement process is continued until additional changes to the structure cannot be made, and there is no subsequent improvement in refinement statistics. \n",
    "\n",
    "Validation of the structure is performed as part of `phenix.refine` as well. The results can be seen under the `MolProbity`, `Real-space correlation` and `Atomic properties` tabs (as shown in the image above). \n",
    "- Molprobity checks for local errors in the structure and identifies residues that have poor geometry and steric clashes. \n",
    "- Atomic properties checks B-factors and occupancy, and real-space correlation performs bulk-solvent correction and scaling to make a 2FO-FC map and compares it to a map from the model alone. \n",
    "- All outputs from the validation processes should be inspected before deposition to the PDB, which has its own set of validation parameters that must be satisfied."
   ]
  },
  {
   "cell_type": "markdown",
   "metadata": {},
   "source": [
    "-------------\n",
    "## 📖 Submodule 3 - Test Your Knowledge\n",
    "Over time it gets easier to recognize amino acid residues by looking at the density alone. Identify which residue corresponds to each map density. Each example has the side chain removed, so look at the map density to determine the correct amino acid side chain. Some residues share similar structures (e.g. Asp and Asn, or Glu and Gln), so it can be difficult to get the correct answer. \n"
   ]
  },
  {
   "cell_type": "code",
   "execution_count": 2,
   "metadata": {
    "tags": []
   },
   "outputs": [],
   "source": [
    "#import library to display quiz questions\n",
    "from IPython.display import IFrame"
   ]
  },
  {
   "cell_type": "markdown",
   "metadata": {
    "tags": []
   },
   "source": [
    "#### Question 1\n",
    "<center><u><b>Q1 Image</b></u>: Lactate dehydrogenase (PDBID: 8AB3); Resolution: 2.62 Å</center>\n",
    "\n",
    "<center><img src='images/submod_3/quiz/q1.png'\n",
    "     align='middle'\n",
    "     width='400'/></center>"
   ]
  },
  {
   "cell_type": "code",
   "execution_count": 3,
   "metadata": {
    "tags": []
   },
   "outputs": [
    {
     "data": {
      "text/html": [
       "\n",
       "        <iframe\n",
       "            width=\"600\"\n",
       "            height=\"400\"\n",
       "            src=\"quiz_files/submod3/quiz3_1.html\"\n",
       "            frameborder=\"0\"\n",
       "            allowfullscreen\n",
       "            \n",
       "        ></iframe>\n",
       "        "
      ],
      "text/plain": [
       "<IPython.lib.display.IFrame at 0x7f07817ce470>"
      ]
     },
     "execution_count": 3,
     "metadata": {},
     "output_type": "execute_result"
    }
   ],
   "source": [
    "#Display Q1\n",
    "IFrame('quiz_files/submod3/quiz3_1.html', width=600, height=400)"
   ]
  },
  {
   "cell_type": "markdown",
   "metadata": {},
   "source": [
    "#### Question 2\n",
    "<center><u><b>Q2 Image</b></u>: Haemoglobin (PDBID: 3MJU); Resolution: 3.50 Å</center>\n",
    "<center><img src='images/submod_3/quiz/q2.png'\n",
    "     align='middle'\n",
    "     width='400'/><center>"
   ]
  },
  {
   "cell_type": "code",
   "execution_count": 4,
   "metadata": {
    "tags": []
   },
   "outputs": [
    {
     "data": {
      "text/html": [
       "\n",
       "        <iframe\n",
       "            width=\"600\"\n",
       "            height=\"400\"\n",
       "            src=\"quiz_files/submod3/quiz3_2.html\"\n",
       "            frameborder=\"0\"\n",
       "            allowfullscreen\n",
       "            \n",
       "        ></iframe>\n",
       "        "
      ],
      "text/plain": [
       "<IPython.lib.display.IFrame at 0x7f07817984f0>"
      ]
     },
     "execution_count": 4,
     "metadata": {},
     "output_type": "execute_result"
    }
   ],
   "source": [
    "#Display Q2\n",
    "IFrame('quiz_files/submod3/quiz3_2.html', width=600, height=400)"
   ]
  },
  {
   "cell_type": "markdown",
   "metadata": {},
   "source": [
    "#### Question 3\n",
    "<center><u><b>Q3 Image</b></u>: Isocitrate lyase (PDBID: 7EBC); Resolution: 3.50 Å</center>\n",
    "<center><img src='images/submod_3/quiz/q3.png'\n",
    "     align='middle'\n",
    "     width='400'/></center>"
   ]
  },
  {
   "cell_type": "code",
   "execution_count": 5,
   "metadata": {
    "tags": []
   },
   "outputs": [
    {
     "data": {
      "text/html": [
       "\n",
       "        <iframe\n",
       "            width=\"600\"\n",
       "            height=\"400\"\n",
       "            src=\"quiz_files/submod3/quiz3_3.html\"\n",
       "            frameborder=\"0\"\n",
       "            allowfullscreen\n",
       "            \n",
       "        ></iframe>\n",
       "        "
      ],
      "text/plain": [
       "<IPython.lib.display.IFrame at 0x7f0781651ea0>"
      ]
     },
     "execution_count": 5,
     "metadata": {},
     "output_type": "execute_result"
    }
   ],
   "source": [
    "#Display Q3\n",
    "IFrame('quiz_files/submod3/quiz3_3.html', width=600, height=400)"
   ]
  },
  {
   "cell_type": "markdown",
   "metadata": {},
   "source": [
    "#### Question 4\n",
    "<center><u><b>Q4 Image</b></u>: Rhodopsin (PDBID: 7Q36); Resolution: 2.60 Å</center>\n",
    "<center><img src='images/submod_3/quiz/q4.png'\n",
    "     align='middle'\n",
    "     width='400'/></center>"
   ]
  },
  {
   "cell_type": "code",
   "execution_count": 6,
   "metadata": {
    "tags": []
   },
   "outputs": [
    {
     "data": {
      "text/html": [
       "\n",
       "        <iframe\n",
       "            width=\"600\"\n",
       "            height=\"400\"\n",
       "            src=\"quiz_files/submod3/quiz3_4.html\"\n",
       "            frameborder=\"0\"\n",
       "            allowfullscreen\n",
       "            \n",
       "        ></iframe>\n",
       "        "
      ],
      "text/plain": [
       "<IPython.lib.display.IFrame at 0x7f0781666440>"
      ]
     },
     "execution_count": 6,
     "metadata": {},
     "output_type": "execute_result"
    }
   ],
   "source": [
    "#Display Q4\n",
    "IFrame('quiz_files/submod3/quiz3_4.html', width=600, height=400)"
   ]
  },
  {
   "cell_type": "markdown",
   "metadata": {},
   "source": [
    "#### Question 5\n",
    "<center><u><b>Q5 Image</b></u>: Ras (PDBID: 7O83); Resolution: 2.38 Å</center>\n",
    "<center><img src='images/submod_3/quiz/q5.png'\n",
    "     align='middle'\n",
    "     width='400'/></center>"
   ]
  },
  {
   "cell_type": "code",
   "execution_count": 7,
   "metadata": {
    "tags": []
   },
   "outputs": [
    {
     "data": {
      "text/html": [
       "\n",
       "        <iframe\n",
       "            width=\"600\"\n",
       "            height=\"400\"\n",
       "            src=\"quiz_files/submod3/quiz3_5.html\"\n",
       "            frameborder=\"0\"\n",
       "            allowfullscreen\n",
       "            \n",
       "        ></iframe>\n",
       "        "
      ],
      "text/plain": [
       "<IPython.lib.display.IFrame at 0x7f07817e1a50>"
      ]
     },
     "execution_count": 7,
     "metadata": {},
     "output_type": "execute_result"
    }
   ],
   "source": [
    "#Display Q5\n",
    "IFrame('quiz_files/submod3/quiz3_5.html', width=600, height=400)"
   ]
  },
  {
   "cell_type": "markdown",
   "metadata": {
    "tags": []
   },
   "source": [
    "----------\n",
    "## Final Activity:\n",
    "Some of the residues from each structure above have been removed, resulting in incomplete proteins. Complete the final activity by doing the following:\n",
    "1. Use the appropriate FASTA sequence and structure factor files to make *maps*. \n",
    "2. Go through each model and build in the missing density.\n",
    "3. Conduct a round of refinement in Phenix.\n",
    "    + *Maps* are automatically calculated by going to: <br>\n",
    "    `File -> Open MTZ, mmCIF, fcf, or phs or mmCIF data`.\n",
    "\n",
    "### Necessary Files:\n",
    "#### *8AB3* Files:\n",
    "`8AB3_in.pdb`<br>\n",
    "`8AB3-sf.cif`<br>\n",
    "`8AB3.fasta`<br>\n",
    "\n",
    "#### *3MJU* Files:\n",
    "`3MJU_in.pdb`<br>\n",
    "`3MJU-sf.cif`<br>\n",
    "`3MJU.fasta`<br>\n",
    "\n",
    "#### *7EBC* Files: \n",
    "`7EBC_in.pdb`<br>\n",
    "`7EBC-sf.cif`<br>\n",
    "`7EBC.fasta`<br>\n",
    "\n",
    "\n",
    "#### *7Q36* Files: \n",
    "`7Q36_in.pdb`<br>\n",
    "`7Q36-sf.cif`<br>\n",
    "`7Q36.fasta`<br>\n",
    "\n",
    "\n",
    "#### *7O83* Files: \n",
    "`7O83_in.pdb`<br>\n",
    "`7O83-sf.cif`<br>\n",
    "`7O83.fasta`<br>\n",
    "\n"
   ]
  },
  {
   "cell_type": "code",
   "execution_count": null,
   "metadata": {
    "tags": []
   },
   "outputs": [],
   "source": [
    "# Execute the following command to get activity files from S3\n",
    "!aws s3 cp s3://protein-crystallography/submodule3/Activity Submodule3_FinalActivity --recursive"
   ]
  },
  {
   "cell_type": "markdown",
   "metadata": {},
   "source": [
    "---------\n",
    "## Conclusion\n",
    "Through this submodule, you have gained critical skills in utilizing the Crystallographic Object-Oriented Toolkit (COOT), an essential tool for preparing a final model suitable for submission to the Protein Data Bank (PDB). You have learned to interpret electron density maps, refine structures, and appreciate the iterative nature of this approach. These competencies not only enhance your ability to contribute to high-quality structural biology research and equip you with the foundational tools and knowledhe to conduct your own future exploration and discovery. "
   ]
  },
  {
   "cell_type": "markdown",
   "metadata": {},
   "source": [
    "## Clean Up\n",
    "<div class=\"alert alert-block alert-warning\"> <b>Attention:</b> Remember to shutdown VM and delete any relevant resources</a>. </div>"
   ]
  }
 ],
 "metadata": {
  "kernelspec": {
   "display_name": "conda_python3",
   "language": "python",
   "name": "conda_python3"
  },
  "language_info": {
   "codemirror_mode": {
    "name": "ipython",
    "version": 3
   },
   "file_extension": ".py",
   "mimetype": "text/x-python",
   "name": "python",
   "nbconvert_exporter": "python",
   "pygments_lexer": "ipython3",
   "version": "3.10.16"
  }
 },
 "nbformat": 4,
 "nbformat_minor": 4
}
