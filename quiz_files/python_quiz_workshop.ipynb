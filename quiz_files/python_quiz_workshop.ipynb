{
 "cells": [
  {
   "cell_type": "markdown",
   "id": "11ee12d6-1d2c-4a31-aac4-7b01b29eeb87",
   "metadata": {},
   "source": [
    "# Workshop: Interactive Quizzes in Jupyter Notebooks\n",
    "### Workshop Objective:\n",
    "The objective of this workshop is to provide you with a basic understanding and resources to build interactive test materials into your modules.\n",
    "### Workshop Outline: \n",
    "The tutorial is broken into the following **five** sections:\n",
    "- <u>Part 1: Using jupyterquiz</u> - takes you through how to create and embed different types of quiz questions from *.json* files using the jupyterquiz package.\n",
    "- <u>Part 2: Using jupytercards</u> - takes you through how to create and embed flashcards from *.json* files using the jupytercards package.\n",
    "- <u>Part 3: Export Quizzes and Flashcards as HTML</u> - shows you how to convert *.json* files into HTML to enable more seamless integration of test materials into your own notebooks.\n",
    "- <u>Part 4: Import from Github URL</u> - shows you the code to import quiz and/or flashcard files from a Github URL.\n",
    "- <u>Part 5: Using jupytercards</u> - takes you through how to create and embed drop-down quizzes from a module originally developed by Dr. Jordan Rowley of Nebraska University.\n",
    "- <u>Part 6: R Kernel quiz workaround</u> - shows you how to display quizzes and flashcards in an R kernel jupyter notebook.\n",
    "------------------------------------------------------------------------------------------------------------------------------------------------"
   ]
  },
  {
   "cell_type": "markdown",
   "id": "fe45b144-905a-40cf-afc8-14f3f9d53d34",
   "metadata": {},
   "source": [
    "## Part 1: Using jupyterquiz <a name=\"part1\"></a>"
   ]
  },
  {
   "cell_type": "markdown",
   "id": "56c7935c-3ee4-4b09-a5be-ddfbc5f2758c",
   "metadata": {},
   "source": [
    "This section takes you through how to create and embed different types of quiz questions from *.json* files using the jupyterquiz package. The jupyterquiz python package can be used to create interactive quizzes in jupyter. As you build your quizzes, we recommend creating a separate JSON file for each quiz if you would like to separate your quizzes between notebooks or sections of your tutorial. A link to the jupyterquiz Github page can be found **[here](https://github.com/jmshea/jupyterquiz)**.  \n"
   ]
  },
  {
   "cell_type": "code",
   "execution_count": null,
   "id": "f84bdf3d-46ac-49db-aac7-3d99861edf2b",
   "metadata": {
    "tags": []
   },
   "outputs": [],
   "source": [
    "!pip install jupyterquiz\n",
    "!pip install jupytercards"
   ]
  },
  {
   "cell_type": "code",
   "execution_count": null,
   "id": "8e31ea70-fba4-4e07-bc7c-9853a1f8ccc3",
   "metadata": {
    "tags": []
   },
   "outputs": [],
   "source": [
    "import json\n",
    "from jupyterquiz import display_quiz"
   ]
  },
  {
   "cell_type": "code",
   "execution_count": null,
   "id": "7cfc151a-afa4-4527-9fb4-67efdbbe08ec",
   "metadata": {
    "tags": []
   },
   "outputs": [],
   "source": [
    "!mkdir questions"
   ]
  },
  {
   "cell_type": "markdown",
   "id": "f6ec1fc7-a7fd-4819-92b7-a6d5dc107cf9",
   "metadata": {},
   "source": [
    "jupyterquiz questions are made through a json file structured like the examples below and can include multiple choice (mc), single choice (sc), or numerical (num) questions."
   ]
  },
  {
   "cell_type": "code",
   "execution_count": null,
   "id": "181fcce2-6c6d-4de1-812c-c19c69ffb7f3",
   "metadata": {
    "tags": []
   },
   "outputs": [],
   "source": [
    "#Multiple Choice quiz question example\n",
    "mc_quiz = [\n",
    "    {\n",
    "        \"question\": \"Select all answers that are correct. Which tools are used primarily as aligners in an RNA-Seq pipeline?\",\n",
    "        \"type\": \"many_choice\",\n",
    "        \"answers\": [\n",
    "            {\n",
    "                \"answer\": \"STAR\",\n",
    "                \"correct\": True,\n",
    "                \"feedback\": \"Correct\"\n",
    "            },\n",
    "            {\n",
    "                \"answer\": \"BW2\",\n",
    "                \"correct\": False,\n",
    "                \"feedback\": \"Incorrect\"\n",
    "            },\n",
    "            {\n",
    "                \"answer\": \"BWA\",\n",
    "                \"correct\": True,\n",
    "                \"feedback\": \"Correct\"\n",
    "            },\n",
    "            {\n",
    "                \"answer\": \"Bowtie2\",\n",
    "                \"correct\": True,\n",
    "                \"feedback\": \"Correct\"\n",
    "            },\n",
    "            {\n",
    "                \"answer\": \"Bismark\",\n",
    "                \"correct\": False,\n",
    "                \"feedback\": \"Incorrect- not used for RNA-Seq.\"\n",
    "            }\n",
    "        ]\n",
    "    }\n",
    "]\n",
    "\n",
    "#outputs .json structured question above as .json file in designated path\n",
    "with open('questions/mc_quiz.json','w') as json_file:\n",
    "    json.dump(mc_quiz, json_file)"
   ]
  },
  {
   "cell_type": "code",
   "execution_count": null,
   "id": "e8b2607b-25f6-4110-a2c4-b2a9bf4d9034",
   "metadata": {
    "tags": []
   },
   "outputs": [],
   "source": [
    "#display Multiple Choice quiz\n",
    "display_quiz(\"questions/mc_quiz.json\")"
   ]
  },
  {
   "cell_type": "code",
   "execution_count": null,
   "id": "2392eca8-af6f-47eb-8734-2d8377913118",
   "metadata": {
    "tags": []
   },
   "outputs": [],
   "source": [
    "#Single Choice quiz question example\n",
    "sc_quiz = [\n",
    "    {\n",
    "        \"question\": \"Select a single answer. Which organism has the largest genome?\",\n",
    "        \"type\": \"many_choice\",\n",
    "        \"answers\": [\n",
    "            {\n",
    "                \"answer\": \"Human\",\n",
    "                \"correct\": False,\n",
    "                \"feedback\": \"Incorrect\"\n",
    "            },\n",
    "            {\n",
    "                \"answer\": \"Australian lungfish\",\n",
    "                \"correct\": True,\n",
    "                \"feedback\": \"Correct\"\n",
    "            },\n",
    "            {\n",
    "                \"answer\": \"Spanish salamander\",\n",
    "                \"correct\": False,\n",
    "                \"feedback\": \"Correct\"\n",
    "            },\n",
    "            {\n",
    "                \"answer\": \"Dog\",\n",
    "                \"correct\": False,\n",
    "                \"feedback\": \"Incorrect\"\n",
    "            }\n",
    "        ]\n",
    "    }\n",
    "]\n",
    "\n",
    "#outputs .json structured question above as .json file in designated path\n",
    "with open('questions/sc_quiz.json','w') as json_file:\n",
    "    json.dump(sc_quiz, json_file)"
   ]
  },
  {
   "cell_type": "code",
   "execution_count": null,
   "id": "bae697bc-397c-4d1d-8d24-2e999eaa6679",
   "metadata": {
    "tags": []
   },
   "outputs": [],
   "source": [
    "#display Single Choice quiz\n",
    "display_quiz(\"questions/sc_quiz.json\")"
   ]
  },
  {
   "cell_type": "code",
   "execution_count": null,
   "id": "dcfc8695-1a75-41c6-8f76-4c356932d95e",
   "metadata": {
    "tags": []
   },
   "outputs": [],
   "source": [
    "#Numerical quiz question example\n",
    "num_quiz = [\n",
    "    {\n",
    "        \"question\": \"How many classes of Fc gamma receptors are found in mice?\",\n",
    "        \"type\": \"numeric\",\n",
    "        \"answers\": [\n",
    "            {\n",
    "                \"type\": \"value\",\n",
    "                \"value\": 1,\n",
    "                \"correct\": False,\n",
    "                \"feedback\": \"Incorrect\"\n",
    "            },\n",
    "            {\n",
    "                \"type\": \"value\",\n",
    "                \"value\": 0,\n",
    "                \"correct\": False,\n",
    "                \"feedback\": \"Incorrect\"\n",
    "            },\n",
    "            {\n",
    "                \"type\": \"value\",\n",
    "                \"value\": 4,\n",
    "                \"correct\": True,\n",
    "                \"feedback\": \"Correct\"\n",
    "            },\n",
    "            {\n",
    "                \"type\": \"value\",\n",
    "                \"value\": 2,\n",
    "                \"correct\": False,\n",
    "                \"feedback\": \"Incorrect\"\n",
    "            }\n",
    "        ]\n",
    "    }\n",
    "]\n",
    "\n",
    "#outputs .json structured question above as .json file in designated path\n",
    "with open('questions/num_quiz.json','w') as json_file:\n",
    "    json.dump(num_quiz, json_file)"
   ]
  },
  {
   "cell_type": "code",
   "execution_count": null,
   "id": "0cf0e425-143d-43d8-a14a-99af8affde27",
   "metadata": {
    "tags": []
   },
   "outputs": [],
   "source": [
    "#display numerical quiz question\n",
    "display_quiz(\"questions/num_quiz.json\")"
   ]
  },
  {
   "cell_type": "markdown",
   "id": "70f6768a-282b-49e4-9b67-d4bd5afd024b",
   "metadata": {},
   "source": [
    "## Part 2: Using jupytercards"
   ]
  },
  {
   "cell_type": "markdown",
   "id": "b025ec7f-6fdd-439c-81b6-a22bacf02958",
   "metadata": {},
   "source": [
    "This section takes you through how to create and embed flashcards from *.json* files using the jupytercards package. The jupytercards package was developed by the same person who made jupyterquiz. This tool can interactively introduce definitions or biological concepts that are important to understand for your learning module content. A link to the jupytercards Github page can be found **[here](https://github.com/jmshea/jupytercards)**. "
   ]
  },
  {
   "cell_type": "code",
   "execution_count": null,
   "id": "0852fcf0-db31-4e82-8d3a-68ff034ee5fb",
   "metadata": {
    "tags": []
   },
   "outputs": [],
   "source": [
    "from jupytercards import display_flashcards"
   ]
  },
  {
   "cell_type": "code",
   "execution_count": null,
   "id": "499701e5-8027-4aa5-889f-e95a45207ed7",
   "metadata": {
    "tags": []
   },
   "outputs": [],
   "source": [
    "!mkdir flashcards"
   ]
  },
  {
   "cell_type": "code",
   "execution_count": null,
   "id": "a866b22b-1cc9-4e28-9797-7cd8dceb3103",
   "metadata": {
    "tags": []
   },
   "outputs": [],
   "source": [
    "#Example flashcards\n",
    "bio_definitions = [\n",
    "    {\n",
    "        \"front\": \"homolog\",\n",
    "        \"back\": \"A gene related to a second gene by descent from a common ancestral DNA sequence.\"\n",
    "    },\n",
    "    {\n",
    "        \"front\": \"ortholog\",\n",
    "        \"back\": \"gene sequences derived from the same ancestral gene present in two species' last common ancestor.\"\n",
    "    },\n",
    "    {\n",
    "        \"front\": \"paralog\",\n",
    "        \"back\": \"genes separated by gene duplication events.\"\n",
    "    }\n",
    "]\n",
    "\n",
    "#outputs .json structured question above as .json file in designated path\n",
    "with open('flashcards/bio_definitions.json','w') as json_file:\n",
    "    json.dump(bio_definitions, json_file)"
   ]
  },
  {
   "cell_type": "code",
   "execution_count": null,
   "id": "280b43f9-b74b-4b6d-bddf-308373cb5eb6",
   "metadata": {
    "tags": []
   },
   "outputs": [],
   "source": [
    "#display flashcards\n",
    "display_flashcards('flashcards/bio_definitions.json')"
   ]
  },
  {
   "cell_type": "markdown",
   "id": "62e81f81-e93e-4fc9-a76d-249c61863fce",
   "metadata": {},
   "source": [
    "<div class=\"alert alert-block alert-danger\">\n",
    "    <i class=\"fa fa-exclamation-circle\" aria-hidden=\"true\"></i>\n",
    "    <b>Alert: </b>  You can see above that when you first open this notebook Jupyter cards does not load any time a user refreshes or starts their notebook again they would have to rerun the card command. So to get around this we will need to export the quiz as a <b>HTML file</b> as outlined in Part 3 below.\n",
    "</div>"
   ]
  },
  {
   "cell_type": "markdown",
   "id": "1e2fba25-d044-4886-aa2f-ede7d4fa2f17",
   "metadata": {},
   "source": [
    "## Part 3: Export Quizzes and Flashcards as HTML"
   ]
  },
  {
   "cell_type": "markdown",
   "id": "411ae6c8-c49b-459c-b184-a69a8bc86f2d",
   "metadata": {},
   "source": [
    "In this section we will show you how to convert your *.json*-based quiz and flashacard files to HTML. The benefits of exporting your files as HTML include:\n",
    "- Users wont see the input code so they wont know the path to your quizzes/cards\n",
    "- You are able to resize the quizzes/cards\n",
    "- The user may have to run the IFrame command once but after that the quizzes will stay put on the notebook"
   ]
  },
  {
   "cell_type": "markdown",
   "id": "d21efa07-9613-4769-adac-8449ea675b17",
   "metadata": {},
   "source": [
    "### 3.1 JupyterQuiz"
   ]
  },
  {
   "cell_type": "markdown",
   "id": "96ec5474-c968-4a2c-9ecd-0631feb9c448",
   "metadata": {},
   "source": [
    "1. Enable Jupyter extensions by clicking on the puzzle piece icon <img src=\"images/extension.png\" width=\"20\" height=\"20\"> then click <img src=\"images/enable.png\" width=\"50\" height=\"50\">.\n",
    "2. Make sure you are using a Python Kernel in your notebook.\n",
    "3. Create a JSON jupyterquiz file to hold your questions and answers\n",
    "4. Create a jupyter notebook for only displaying your quizzes. For our purposes you can [open this provided notebook](html/quiz_html_example.ipynb) to test quiz html conversion.\n",
    "\n",
    "5. Once the example notebook is opened, using the link above, run the first cell **ONLY** (code shown below) if you have not already installed the jupyter quiz package.\n",
    "    <br>`pip install jupyterquiz`\n",
    "\n",
    "6. Next, run the command in the second cell of the newly opened notebook (code should look similar to below) to display your quiz and confirm it renders as intended when you created the quiz file. <br>\n",
    "    `from jupyterquiz import display_quiz` <br>\n",
    "    `display_quiz(\"path/to/quiz_file.json\")`\n",
    "\n",
    "7. Save your notebook and **make sure there are no outputs other than your jupyterquiz**.\n",
    "\n",
    "8. In your Terminal enter the following command (exports your quiz as HTML): <br> \n",
    "<p style=\"background:black\">\n",
    "<code style=\"background:black;color:white\">jupyter nbconvert --no-input --to html html/quiz_html_example.ipynb\n",
    "</code>\n",
    "</p>\n",
    "    \n",
    "9. Run the cell below to display the *.html* version of the converted quiz.\n",
    "\n",
    "<div class=\"alert alert-block alert-info\">\n",
    "    <i class=\"fa fa-exclamation-circle\" aria-hidden=\"true\"></i>\n",
    "    <b>Note: </b>  If your flashcards are not displayed you may need to navigate to the html folder and open the newly created <i>quiz_html_example.html</i> file and make sure you press \"Trust HTML\" in the top left corner of the notebook, then re-run the terminal command above.\n",
    "</div>"
   ]
  },
  {
   "cell_type": "code",
   "execution_count": null,
   "id": "5a66bcc8-2600-43eb-8cfe-e5ad6a05e68a",
   "metadata": {
    "tags": []
   },
   "outputs": [],
   "source": [
    "from IPython.display import IFrame\n",
    "IFrame('html/quiz_html_example.html', width=800, height=400)"
   ]
  },
  {
   "cell_type": "markdown",
   "id": "ee742512-27ef-4b3a-82b2-25f2ac009523",
   "metadata": {
    "tags": []
   },
   "source": [
    "<div class=\"alert alert-block alert-info\">\n",
    "    <i class=\"fa fa-exclamation-circle\" aria-hidden=\"true\"></i>\n",
    "    <b>Note: </b> You only need to do this once as the user should see the quiz already loaded.\n",
    "</div>"
   ]
  },
  {
   "cell_type": "markdown",
   "id": "ada3a14e-4dc8-45d6-8ec3-2c74f9814d38",
   "metadata": {},
   "source": [
    "### 3.2 Jupytercards"
   ]
  },
  {
   "cell_type": "markdown",
   "id": "cd6b4b6e-419d-4f14-a457-cbc053324e6d",
   "metadata": {},
   "source": [
    "1. Enable Jupyter extensions by clicking on the puzzle piece icon <img src=\"images/extension.png\" width=\"20\" height=\"20\"> then click <img src=\"images/enable.png\" width=\"50\" height=\"50\">.\n",
    "2. Make sure you are using a Python Kernel in your notebook.\n",
    "3. Create a JSON jupytercards file to hold your flashcards.\n",
    "4. Create a jupyter notebook for only displaying your flashcards. For our purposes you can [open this provided notebook](html/flashcard_html_example.ipynb) to test flashcard html conversion.\n",
    "\n",
    "5. Once the example notebook is opened, using the link above, run the first cell **ONLY** (code shown below) if you have not already installed the jupyter quiz package.\n",
    "    <br>`pip install jupytercards`\n",
    "\n",
    "6. Next, run the command in the second cell of the newly opened notebook (code should look similar to below) to display your flashcard(s) and confirm it renders as intended when you created the flashcard(s) file. <br>\n",
    "    `from jupytercards import display_flashcards` <br>\n",
    "    `display_flashcards('path/to/flashcard_file.json')`\n",
    "    \n",
    "7. Save your notebook and **make sure there are no outputs other than your jupytercards**.\n",
    "\n",
    "8. In your Terminal enter the following command (exports your quiz as HTML): <br> \n",
    "<p style=\"background:black\">\n",
    "<code style=\"background:black;color:white\">jupyter nbconvert --no-input --to html html/flashcard_html_example.ipynb\n",
    "</code>\n",
    "</p>\n",
    "\n",
    "9. Run the cell below to display the *.html* version of the flashcard.\n",
    "\n",
    "<div class=\"alert alert-block alert-info\">\n",
    "    <i class=\"fa fa-exclamation-circle\" aria-hidden=\"true\"></i>\n",
    "    <b>Note: </b>  If your flashcards are not displayed you may need to navigate to the html folder and open the newly created <i>flashcard_html_example.html</i> file and make sure you press \"Trust HTML\" in the top left corner of the notebook, then re-run the terminal command above.\n",
    "</div>"
   ]
  },
  {
   "cell_type": "code",
   "execution_count": null,
   "id": "34efb55e-deca-433c-b311-dfece2f17a7d",
   "metadata": {
    "tags": []
   },
   "outputs": [],
   "source": [
    "from IPython.display import IFrame\n",
    "IFrame('html/flashcard_html_example.html', width=600, height=600)"
   ]
  },
  {
   "cell_type": "markdown",
   "id": "fece2306-abde-4215-b924-0188bcfd310d",
   "metadata": {
    "tags": []
   },
   "source": [
    "<div class=\"alert alert-block alert-info\">\n",
    "    <i class=\"fa fa-exclamation-circle\" aria-hidden=\"true\"></i>\n",
    "    <b>Note: </b> You only need to do this once as the user should see the flashcards already loaded\n",
    "</div>"
   ]
  },
  {
   "cell_type": "markdown",
   "id": "3fe5714a-0440-49f0-88d4-32563034bb40",
   "metadata": {},
   "source": [
    "## Part 4: Import from Github URL\n",
    "This section simply shows you the code to import quiz and/or flashcard files from a Github URL."
   ]
  },
  {
   "cell_type": "code",
   "execution_count": null,
   "id": "3a820584-f1c2-4a01-a589-6abfc039f2c3",
   "metadata": {
    "tags": []
   },
   "outputs": [],
   "source": [
    "git_path=\"https://raw.githubusercontent.com/NIGMS/Introduction-to-Data-Science-for-Biology/master/GoogleCloud/quiz_files/\"\n",
    "display_quiz(git_path+\"quiz1.json\")"
   ]
  },
  {
   "cell_type": "markdown",
   "id": "f9bb6b79-7516-4335-8f31-120a6d9e2dd6",
   "metadata": {},
   "source": [
    "## Part 5: Drop-down Quizzes\n",
    "This section takes you through how to create and embed drop-down quizzes using a python module **originally developed by Dr. Jordan Rowley of Nebraska University**."
   ]
  },
  {
   "cell_type": "code",
   "execution_count": null,
   "id": "330486f0-62d1-4a91-ba8b-3a38fac6143e",
   "metadata": {
    "tags": []
   },
   "outputs": [],
   "source": [
    "from drop_down_quizzes.quiz_module import run_quiz"
   ]
  },
  {
   "cell_type": "code",
   "execution_count": null,
   "id": "f43e49d8-64e4-4166-86df-8d2f7737ff80",
   "metadata": {
    "tags": []
   },
   "outputs": [],
   "source": [
    "dropdown_quiz = {\n",
    "    \"descripton\": \"Match the appropriate powers to the superhero:\",\n",
    "    \"questions\": [\n",
    "        {\n",
    "            \"question\": \"Flight\",\n",
    "            \"answer\": \"Superman\",\n",
    "            \"explanation\": \"Hint: Crypton is calling.\"\n",
    "        },\n",
    "        {\n",
    "            \"question\": \"Spidey Sense\",\n",
    "            \"answer\": \"Spiderman\",\n",
    "            \"explanation\": \"Hint: Someone with spider powers.\"\n",
    "        },\n",
    "        {\n",
    "            \"question\": \"Defeats all other superheros\",\n",
    "            \"answer\": \"Chuck Norris\",\n",
    "            \"explanation\": \"Hint: His tears cure cancer. Too bad he's never cried!\"\n",
    "        }\n",
    "    ],\n",
    "    \"distractors\": [\"Batman\", \"Mr T\", \"Antman\"]\n",
    "}\n",
    "\n",
    "with open('questions/dropdown_quiz.json','w') as json_file:\n",
    "    json.dump(dropdown_quiz, json_file)"
   ]
  },
  {
   "cell_type": "code",
   "execution_count": null,
   "id": "591fd8e0-c3e5-47fd-a323-3f264c5289bf",
   "metadata": {
    "tags": []
   },
   "outputs": [],
   "source": [
    "# Import_type should be one of two str values: 'json' or 'url'\n",
    "# Import_path here defines the json filepath\n",
    "# Here we have set the shuffle_answers parameter to True, which randomizes the order of the possible answers.\n",
    "\n",
    "run_quiz(import_type=\"json\", import_path=\"questions/dropdown_quiz.json\", instant_feedback=False, shuffle_questions=False, shuffle_answers=True)"
   ]
  },
  {
   "cell_type": "code",
   "execution_count": null,
   "id": "cace7c6e-935c-4394-ae96-874b6972ac6f",
   "metadata": {
    "tags": []
   },
   "outputs": [],
   "source": [
    "# By changing the parameters, you can have it provide instant feedback and/or randomize the question order.\n",
    "# Here we have set the instant_feedback and shuffle_questions parameters to True to highlight these functionalities.\n",
    "\n",
    "run_quiz(import_type=\"json\", import_path=\"questions/dropdown_quiz.json\", instant_feedback=True, shuffle_questions=True, shuffle_answers=True)"
   ]
  },
  {
   "cell_type": "code",
   "execution_count": null,
   "id": "2fe4a851-c6be-4bc3-8704-30a040f3a9a3",
   "metadata": {
    "tags": []
   },
   "outputs": [],
   "source": [
    "# Here we are importing the raw json file from the github repo.\n",
    "# The import_path parameter here defines the URL to access the json quiz file on github\n",
    "\n",
    "import_path = \"http://raw.githubusercontent.com/JRowleyLab/JupyterDropDownQuizzes/main/questions/TestingExample.json\"\n",
    "\n",
    "run_quiz(import_type='url', import_path=import_path, instant_feedback=True, shuffle_questions=True, shuffle_answers=True)"
   ]
  },
  {
   "cell_type": "markdown",
   "id": "5cc78ef2-704f-4860-879b-3f20db2baa60",
   "metadata": {},
   "source": [
    "## Part 6: R Kernel quiz workaround\n",
    "[Open this provided notebook](r_quiz_example.ipynb) to see how you can embed quizzes and flashcards within an R kernel jupyter notebook."
   ]
  }
 ],
 "metadata": {
  "kernelspec": {
   "display_name": "conda_python3",
   "language": "python",
   "name": "conda_python3"
  },
  "language_info": {
   "codemirror_mode": {
    "name": "ipython",
    "version": 3
   },
   "file_extension": ".py",
   "mimetype": "text/x-python",
   "name": "python",
   "nbconvert_exporter": "python",
   "pygments_lexer": "ipython3",
   "version": "3.10.16"
  }
 },
 "nbformat": 4,
 "nbformat_minor": 5
}
