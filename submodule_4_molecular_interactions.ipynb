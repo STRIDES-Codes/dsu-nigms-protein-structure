{
 "cells": [
  {
   "cell_type": "markdown",
   "metadata": {},
   "source": [
    "# **Submodule 4 - Molecular Energies**\n",
    "\n",
    "## **Learning Objectives:**\n",
    "- Understand Harmonic/Quatum Harmonic Oscillator\n",
    "- Understand Morse Oscillator\n",
    "- Understand Electronic Schrodinger Equation\n",
    "## **Prerequisites:** \n",
    "- Calculus fundamentals\n",
    "- Physics fundamentals\n",
    "- General Chemistry fundamentals\n",
    "\n",
    "## **Introduction**\n",
    "The discovery of wave-particle duality through pivotal experiments like Planck's blackbody radiation, Einstein's photoelectric effect, and Davisson and Germer's electron diffraction demonstrated the inadequacy of classical mechanics to describe microscopic systems. The Schrödinger equation, the fundamental equation of quantum mechanics, provides a mathematical framework for describing quantum systems by treating matter as wave-like entities. This submodule explores how this equation is applied to molecular systems through quantum mechanical models like the harmonic and Morse oscillators, bridging the gap between classical and quantum mechanical descriptions. Through hands-on computational exercises, you'll investigate potential energy surfaces, develop intuition about quantum mechanical representations of molecular vibrations, and gain deeper insights into the quantum nature of molecular interactions."
   ]
  },
  {
   "cell_type": "markdown",
   "metadata": {},
   "source": [
    "## **Schrödinger's Equation**\n",
    "\n",
    "The Schrödinger equation is a fundamental equation in quantum mechanics that describes the behavior of a quantum system. It is named after the Austrian physicist Erwin Schrödinger, who formulated the equation in 1925. The time-independent Schrödinger equation for a one-dimensional system is given by:\n",
    "\n",
    "$$\\hat{H}\\psi(x) = E\\psi(x)$$\n",
    "\n",
    "where:\n",
    "\n",
    "- $\\hat{H}$ is the Hamiltonian operator, which is the sum of the kinetic and potential energy operators\n",
    "- $\\psi(x)$ is the wave function, which describes the quantum state of the system\n",
    "- $E$ is the total energy of the system\n",
    "\n",
    "The Hamiltonian operator $\\hat{H}$ is composed of two parts: the kinetic energy operator $\\hat{T}$ and the potential energy operator $\\hat{V}$:\n",
    "\n",
    "$$\\hat{H} = \\hat{T} + \\hat{V}$$\n",
    "\n",
    "The kinetic energy operator $\\hat{T}$ in one dimension is given by:\n",
    "\n",
    "$$\\hat{T} = -\\frac{\\hbar^2}{2m}\\frac{d^2}{dx^2}$$\n",
    "\n",
    "where $m$ is the mass of the particle, and $\\hbar$ is the reduced Planck's constant.\n",
    "\n",
    "The potential energy operator $\\hat{V}$ is simply the potential energy function $V(x)$:\n",
    "\n",
    "$$\\hat{V} = V(x)$$\n",
    "\n",
    "Substituting the Hamiltonian operator into the Schrödinger equation, we get:\n",
    "\n",
    "$$\\left(-\\frac{\\hbar^2}{2m}\\frac{d^2}{dx^2} + V(x)\\right)\\psi(x) = E\\psi(x)$$\n",
    "\n",
    "To expand the time-independent Schrödinger equation to more than one dimension, we need to consider the Laplacian operator $\\nabla^2$ instead of the second derivative. In three dimensions, the Laplacian is given by:\n",
    "\n",
    "$$\\nabla^2 = \\frac{\\partial^2}{\\partial x^2} + \\frac{\\partial^2}{\\partial y^2} + \\frac{\\partial^2}{\\partial z^2}$$\n",
    "\n",
    "The kinetic energy operator in three dimensions becomes:\n",
    "\n",
    "$$\\hat{T} = -\\frac{\\hbar^2}{2m}\\nabla^2 = -\\frac{\\hbar^2}{2m}\\left(\\frac{\\partial^2}{\\partial x^2} + \\frac{\\partial^2}{\\partial y^2} + \\frac{\\partial^2}{\\partial z^2}\\right)$$\n",
    "\n",
    "The potential energy operator $\\hat{V}$ is now a function of all three spatial coordinates:\n",
    "\n",
    "$$\\hat{V} = V(x, y, z)$$\n",
    "\n",
    "The time-independent Schrödinger equation in three dimensions is then given by:\n",
    "\n",
    "$$\\left(-\\frac{\\hbar^2}{2m}\\nabla^2 + V(x, y, z)\\right)\\psi(x, y, z) = E\\psi(x, y, z)$$\n"
   ]
  },
  {
   "cell_type": "code",
   "execution_count": 8,
   "metadata": {
    "tags": []
   },
   "outputs": [
    {
     "data": {
      "application/vnd.jupyter.widget-view+json": {
       "model_id": "3c3e0f6e7d434dd6a44bdcc64f0a00ff",
       "version_major": 2,
       "version_minor": 0
      },
      "text/plain": [
       "interactive(children=(FloatSlider(value=1.0, description='Potential Strength', max=2.0), Output()), _dom_class…"
      ]
     },
     "metadata": {},
     "output_type": "display_data"
    },
    {
     "data": {
      "text/plain": [
       "<function __main__.plot_schrodinger_equation(V0)>"
      ]
     },
     "execution_count": 8,
     "metadata": {},
     "output_type": "execute_result"
    }
   ],
   "source": [
    "import numpy as np\n",
    "import matplotlib.pyplot as plt\n",
    "from mpl_toolkits.mplot3d import Axes3D\n",
    "from ipywidgets import interact, FloatSlider\n",
    "\n",
    "def plot_schrodinger_equation(V0):\n",
    "    # Define the spatial grid\n",
    "    x = np.linspace(-5, 5, 100)\n",
    "    y = np.linspace(-5, 5, 100)\n",
    "    X, Y = np.meshgrid(x, y)\n",
    "\n",
    "    # Define the potential energy term\n",
    "    V = V0 * (X**2 + Y**2)\n",
    "\n",
    "    # Define the wave function (example: ground state of harmonic oscillator)\n",
    "    psi = np.exp(-(X**2 + Y**2) / 2)\n",
    "\n",
    "    # Create a 3D plot\n",
    "    fig = plt.figure(figsize=(8, 6))\n",
    "    ax = fig.add_subplot(111, projection='3d')\n",
    "\n",
    "    # Plot the potential energy surface\n",
    "    ax.plot_surface(X, Y, V, cmap='coolwarm', alpha=0.5)\n",
    "\n",
    "    # Plot the wave function\n",
    "    ax.plot_surface(X, Y, psi, cmap='viridis', alpha=0.5)\n",
    "\n",
    "    # Set labels and title\n",
    "    ax.set_xlabel('x')\n",
    "    ax.set_ylabel('y')\n",
    "    ax.set_zlabel('V(x, y) and \\$\\psi(x, y)\\$')\n",
    "    ax.set_title('Schrödinger Equation Visualization')\n",
    "    \n",
    "    # Set axis\n",
    "    ax.set_xlim(-5, 5)\n",
    "    ax.set_ylim(-5, 5)\n",
    "    ax.set_zlim(0, 50)\n",
    "\n",
    "    plt.show()\n",
    "\n",
    "# Generate interactive plot\n",
    "V0_slider = FloatSlider(min=0, max=2, step=0.1, value=1.0, description='Potential Strength')\n",
    "interact(plot_schrodinger_equation, V0=V0_slider)"
   ]
  },
  {
   "cell_type": "markdown",
   "metadata": {},
   "source": [
    "The plot presents a 3D visualization of the Schrödinger equation in two dimensions, with the x and y axes representing the spatial coordinates and the z-axis representing the values of the potential energy surface and the wave function. The potential energy surface depicts a quadratic potential, while the wave function illustrates the ground state of a harmonic oscillator. By adjusting the potential strength using the interactive slider, you can observe how the potential energy surface changes, becoming steeper with increasing strength, and how the wave function adapts to reflect the modified probability distribution of the particle."
   ]
  },
  {
   "cell_type": "markdown",
   "metadata": {},
   "source": [
    "### Wave Function Interpretation\n",
    "\n",
    "The wave function $\\psi(x, y, z)$ obtained from the Schrödinger equation is a complex-valued function that describes the state of the quantum system. The physical interpretation of the wave function is that its square modulus represents the probability density of finding the particle at a given point in space.\n",
    "\n",
    "To obtain the probability density $P(x, y, z)$, we need to use the wave function and its complex conjugate $\\psi^*(x, y, z)$:\n",
    "\n",
    "$$P(x, y, z) = |\\psi(x, y, z)|^2 = \\psi(x, y, z) \\cdot \\psi^*(x, y, z)$$\n",
    "\n",
    "The probability of finding a particle in a specific region of space is calculated by integrating the probability density over that region:\n",
    "\n",
    "$$P_V = \\int_V |\\psi(x, y, z)|^2 dV = \\int_V \\psi(x, y, z) \\psi^*(x, y, z) dV$$\n",
    "\n",
    "The wave function is normalized if the integral of its square modulus over all space is equal to 1:\n",
    "\n",
    "$$\\int_{-\\infty}^{\\infty} |\\psi(x, y, z)|^2 dV = 1$$\n",
    "\n",
    "This normalization condition ensures that the total probability of finding the particle somewhere in space is equal to 1.\n",
    "\n",
    "The Schrödinger equation allows us to determine the wave function and the corresponding energy levels of a quantum system. The probability density is obtained by multiplying the wave function by its complex conjugate, and the probability of finding a particle in a specific region is calculated by integrating the probability density over that region. This relationship between the wave function and probability is a fundamental aspect of quantum mechanics. When applying the Schrödinger equation to molecular systems, the potential energy functions, such as the harmonic oscillator and Morse oscillator, are used to describe the interactions between atoms."
   ]
  },
  {
   "cell_type": "code",
   "execution_count": 9,
   "metadata": {
    "tags": []
   },
   "outputs": [
    {
     "data": {
      "application/vnd.jupyter.widget-view+json": {
       "model_id": "be66100757e34180a7f0c5826caaef18",
       "version_major": 2,
       "version_minor": 0
      },
      "text/plain": [
       "interactive(children=(FloatSlider(value=1.0, description='Sigma', max=2.0, min=0.5), Output()), _dom_classes=(…"
      ]
     },
     "metadata": {},
     "output_type": "display_data"
    },
    {
     "data": {
      "text/plain": [
       "<function __main__.plot_normalization_condition(sigma)>"
      ]
     },
     "execution_count": 9,
     "metadata": {},
     "output_type": "execute_result"
    }
   ],
   "source": [
    "import numpy as np\n",
    "import matplotlib.pyplot as plt\n",
    "from mpl_toolkits.mplot3d import Axes3D\n",
    "from ipywidgets import interact, FloatSlider\n",
    "\n",
    "def plot_normalization_condition(sigma):\n",
    "    # Define the spatial grid\n",
    "    x = np.linspace(-5, 5, 100)\n",
    "    y = np.linspace(-5, 5, 100)\n",
    "    X, Y = np.meshgrid(x, y)\n",
    "\n",
    "    # Define the wave function (example: Gaussian function)\n",
    "    psi = np.exp(-(X**2 + Y**2) / (2 * sigma**2))\n",
    "\n",
    "    # Normalize the wave function\n",
    "    psi /= np.sqrt(np.sum(psi**2) * (x[1] - x[0]) * (y[1] - y[0]))\n",
    "\n",
    "    # Create a 3D plot\n",
    "    fig = plt.figure(figsize=(8, 6))\n",
    "    ax = fig.add_subplot(111, projection='3d')\n",
    "\n",
    "    # Plot the squared magnitude of the wave function\n",
    "    ax.plot_surface(X, Y, np.abs(psi)**2, cmap='viridis', alpha=0.8)\n",
    "\n",
    "    # Set labels and title\n",
    "    ax.set_xlabel('x')\n",
    "    ax.set_ylabel('y')\n",
    "    ax.set_zlabel('\\$|\\psi(x, y)|^2\\$')\n",
    "    ax.set_title('Normalization Condition Visualization')\n",
    "\n",
    "    # Set fixed axis limits\n",
    "    ax.set_xlim(-5, 5)\n",
    "    ax.set_ylim(-5, 5)\n",
    "    ax.set_zlim(0, 0.2)\n",
    "\n",
    "    plt.show()\n",
    "\n",
    "# Generate interactive plot\n",
    "sigma_slider = FloatSlider(min=0.5, max=2.0, step=0.1, value=1.0, description='Sigma')\n",
    "interact(plot_normalization_condition, sigma=sigma_slider)"
   ]
  },
  {
   "cell_type": "markdown",
   "metadata": {},
   "source": [
    "Explanation of the plot:\n",
    "\n",
    "The plot visualizes the normalization condition for the wave function in two dimensions. The x and y axes represent the spatial coordinates, while the z-axis represents the squared magnitude of the wave function, denoted as $|\\psi(x, y)|^2$.\n",
    "\n",
    "In this example, a Gaussian function is used as the wave function, given by:\n",
    "\n",
    "$$\\psi(x, y) = \\exp\\left(-\\frac{x^2 + y^2}{2\\sigma^2}\\right)$$\n",
    "\n",
    "where $\\sigma$ is a parameter that controls the width of the Gaussian function.\n",
    "\n",
    "The wave function is normalized by dividing it by the square root of the integral of its squared magnitude over the entire space. This ensures that the integral of $|\\psi(x, y)|^2$ over all space equals 1, satisfying the normalization condition.\n",
    "\n",
    "The plot displays the squared magnitude of the wave function as a surface in three dimensions. The height and color of the surface indicate the probability density of the particle at different positions in the x-y plane.\n",
    "\n",
    "Note that this is a simplified example using a Gaussian function as the wave function. In reality, the wave function would be determined by solving the Schrödinger equation for the specific system under consideration."
   ]
  },
  {
   "cell_type": "markdown",
   "metadata": {},
   "source": [
    "## **Harmonic Oscillator**\n",
    "The harmonic oscillator is a fundamental model in physics that describes the motion of a particle or system that experiences a restoring force proportional to its displacement from equilibrium. This model is widely used in various fields, including classical mechanics, quantum mechanics, and molecular physics. In the context of molecular systems, the harmonic oscillator is used to approximate the potential energy of a diatomic molecule.\n",
    "\n",
    "### Classical Harmonic Oscillator\n",
    "The harmonic oscillator is a fundamental problem in classical physics which has many real-world applications.\n",
    "\n",
    "Consider a ball of mass $m$ attached to a wall by a spring. If the only force acting on the ball is the restoring force of the spring (there is no gravitational force or any other force acting on the ball), then this is an example of a harmonic oscillator. As the ball is displaced from its equilibrium position, there is a restoring force which causes the ball to return to its initial position, $r_e$. This restoring force is known as Hooke's Law ($F = -kx$)."
   ]
  },
  {
   "cell_type": "code",
   "execution_count": 18,
   "metadata": {
    "tags": []
   },
   "outputs": [
    {
     "data": {
      "text/html": [
       "<video src=\"videos_and_animations/Repetitive_SpringAnimation.mp4\" controls  width=\"1000\"  height=\"500\">\n",
       "      Your browser does not support the <code>video</code> element.\n",
       "    </video>"
      ],
      "text/plain": [
       "<IPython.core.display.Video object>"
      ]
     },
     "execution_count": 18,
     "metadata": {},
     "output_type": "execute_result"
    }
   ],
   "source": [
    "from IPython.display import Video\n",
    "\n",
    "#Video below from YouTube https://youtu.be/2dV5s6v2v8Q?si=o05odyyogwpRBgkk\n",
    "Video(\"videos_and_animations/Repetitive_SpringAnimation.mp4\",width=1000, height=500)"
   ]
  },
  {
   "cell_type": "markdown",
   "metadata": {},
   "source": [
    "#### The Potential Energy of the Harmonic Oscillator\n",
    "As the ball is displaced from its equilibrium position ($r_e$), at any instant in time, the length of the spring is $r$. Letting $x = r-r_e$ be the displacement coordinate, the potential energy of the oscillator is given by:\n",
    "\n",
    "$$\\eqalign{V (x)&= {1\\over 2} k (r - r_e)^2\\cr &= {1\\over 2} k x^2\\cr}$$\n",
    "\n",
    "Any harmonic oscillator will have a fundamental frequency, $\\nu_0$. The force constant is given by $k = 4\\pi^2\\mu\\nu_0^2$.\n",
    "\n",
    "Here,\n",
    "\n",
    "- $r_e$ = equilibrium internuclear distance\n",
    "- $r$ = the distance between atoms during vibration\n",
    "- $x = r-r_e$ is the displacement coordinate\n",
    "- $k$ = the force constant of the massless spring. It is related to the stiffness of the spring. As the ball is displaced, the force acting on it (due to the spring) is given by Hooke's Law: $F = -kx$."
   ]
  },
  {
   "cell_type": "code",
   "execution_count": 3,
   "metadata": {
    "tags": []
   },
   "outputs": [],
   "source": [
    "!pip -q install numpy matplotlib ipywidgets scipy ase"
   ]
  },
  {
   "cell_type": "code",
   "execution_count": 5,
   "metadata": {
    "tags": []
   },
   "outputs": [
    {
     "data": {
      "application/vnd.jupyter.widget-view+json": {
       "model_id": "0202a99bfc614266a528ac152a6568c6",
       "version_major": 2,
       "version_minor": 0
      },
      "text/plain": [
       "interactive(children=(FloatSlider(value=1.0, description='Spring Constant (N/m)', max=2.0), Output()), _dom_cl…"
      ]
     },
     "metadata": {},
     "output_type": "display_data"
    },
    {
     "data": {
      "text/plain": [
       "<function __main__.plot_PE_HO(spring_constant)>"
      ]
     },
     "execution_count": 5,
     "metadata": {},
     "output_type": "execute_result"
    }
   ],
   "source": [
    "import numpy as np\n",
    "import matplotlib.pyplot as plt\n",
    "from ipywidgets import interact, FloatSlider, IntSlider\n",
    "\n",
    "def plot_PE_HO(spring_constant):\n",
    "    x = np.linspace(-5, 5, 1000)\n",
    "    k= spring_constant\n",
    "    PE = 0.5*k*x**2\n",
    "    plt.figure(figsize=(8, 6))\n",
    "    plt.plot(x, PE, label=r'$V(x) = \\frac{1}{2} k x^2$', color='b')\n",
    "    plt.title('Harmonic Oscillator Potential Energy Curve')\n",
    "    plt.xlabel('Displacement (x)')\n",
    "    plt.xticks(np.arange(-5,5,1))\n",
    "    plt.xlim(-5,5)\n",
    "    plt.ylabel('Potential Energy (V(x))')\n",
    "    plt.yticks(np.arange(0,15,1))\n",
    "    plt.ylim(0,15)\n",
    "    plt.grid(True)\n",
    "    plt.axhline(0, color='black',linewidth=1)\n",
    "    plt.axvline(0, color='black',linewidth=1)\n",
    "    plt.legend()\n",
    "    plt.show()\n",
    "\n",
    "# Generate interactive plot\n",
    "spring_constant_slider = FloatSlider(min=0, max=2, step=0.1, value=1.0, description='Spring Constant (N/m)')\n",
    "interact( plot_PE_HO, spring_constant= spring_constant_slider)"
   ]
  },
  {
   "cell_type": "markdown",
   "metadata": {},
   "source": [
    "#### The Kinetic Energy of the Harmonic Oscillator\n",
    "The kinetic energy of this system is $T = {1\\over 2}mv^2$, where $v$ is the velocity and $m$ is the mass of the particle. So, the total energy of the system at any point in time is given by:\n",
    "\n",
    "$$E = T + V = {1\\over 2}mv^2 + {1\\over 2} k x^2$$\n",
    "\n",
    "This can be rewritten in a form known as the Hamiltonian:\n",
    "\n",
    "$$H = {p_x^2\\over 2\\mu} + {1\\over 2} k x^2$$\n",
    "\n",
    "This form of the equation is important for translating the equation for the total energy into a quantum equation.\n",
    "\n",
    "### Quantum Harmonic Oscillator\n",
    "\n",
    "The quantum harmonic oscillator is a fundamental model in quantum mechanics that can be used to describe the stretching motion of a diatomic molecule, such as HF (hydrogen fluoride). In this model, the molecule's vibrations are treated as a particle confined within a parabolic potential well. Unlike the classical harmonic oscillator, where the oscillator can have any energy value, the quantum harmonic oscillator has discrete energy levels.\n",
    "\n",
    "\n",
    "When considering the HF molecule, the quantum harmonic oscillator model can provide insights into the relative motion of the hydrogen and fluorine atoms. Due to the significant difference in mass between hydrogen and fluorine, the hydrogen atom undergoes a larger displacement from the equilibrium position compared to the fluorine atom during the stretching motion. Consequently, the velocity of the hydrogen atom is also greater than that of the fluorine atom.Below is a video illustrating this with the F being the green atom/sphere and hydrogen being the grey atom/sphere. \n"
   ]
  },
  {
   "cell_type": "code",
   "execution_count": 3,
   "metadata": {
    "tags": []
   },
   "outputs": [
    {
     "data": {
      "text/html": [
       "<video src=\"videos_and_animations/twoballspring_nomusic.mp4\" controls  width=\"1000\"  height=\"500\">\n",
       "      Your browser does not support the <code>video</code> element.\n",
       "    </video>"
      ],
      "text/plain": [
       "<IPython.core.display.Video object>"
      ]
     },
     "execution_count": 3,
     "metadata": {},
     "output_type": "execute_result"
    }
   ],
   "source": [
    "from IPython.display import Video\n",
    "\n",
    "Video(\"videos_and_animations/twoballspring_nomusic.mp4\",width=1000, height=500)"
   ]
  },
  {
   "cell_type": "markdown",
   "metadata": {},
   "source": [
    "Any diatomic molecule, with atoms of mass $m_1$ and $m_2$, can be treated as a harmonic oscillator with a mass known as the reduced mass, $\\mu$. Then, the classical Hamiltonian is:\n",
    "\n",
    "$$H = {p_x^2\\over 2\\mu} + {1\\over 2} k x^2$$\n",
    "\n",
    "The Hamiltonian operator for the harmonic oscillator is given by this equation:\n",
    "\n",
    "$$\\widehat H = {-\\hbar^2 \\over 2m} {d^2\\over dx^2} + {1\\over 2}k x^2$$\n",
    "\n",
    "where the reduced mass is $\\mu = {m_1 m_2\\over m_1 + m_2}$. The force constant is $k = 4\\pi^2\\mu\\nu_0^2$, where $\\nu_0$ is the fundamental frequency.\n",
    "\n",
    "When solving the time-independent Schrödinger equation in quantum mechanics, you are solving the equation:\n",
    "\n",
    "$$\\widehat H\\psi = E\\psi$$\n",
    "\n",
    "Now, for the quantum harmonic oscillator, the Schrödinger equation will be:\n",
    "\n",
    "$$\\biggl ({-\\hbar^2\\over 2\\mu} {d^2\\over dx^2} + {1\\over 2} k x^2\\biggr )\\psi = E\\psi$$\n",
    "\n",
    "The solutions of the harmonic oscillator problem, known as the normalized wave functions, are:\n",
    "\n",
    "$$\\psi_n (\\xi) = \\biggl ({\\sqrt {\\beta/\\pi}\\over 2^n n!}\\biggr )^{1/2} H_n (\\xi) \\exp \\biggl ({-\\xi^2\\over 2}\\biggr )$$\n",
    "\n",
    "where $H_n (\\xi)$ are Hermite polynomials.\n",
    "\n",
    "In solving the Schrödinger equation, the allowed ''quantized'' energies of the oscillator are found to be:\n",
    "​\n",
    "$$\\eqalign{E_n&= \\hbar \\biggl({k\\over\\mu}\\biggr) \\bigl(n + {1\\over 2}\\bigr)\\cr &= \\bigl(n + {1\\over 2}\\bigr) h\\nu_0\\cr} $$\n",
    "​\n",
    "The energy level diagram consists of a set of equally spaced levels separated by $h\\nu_0$.\n",
    "\n",
    "<details>\n",
    "  <summary>Element Mass Table</summary>\n",
    "    The following is a table of some elements along with their masses in atomic mass units indicated by amu, or $u$.\n",
    "\n",
    "| Element       | Isotope    | Atomic Mass (amu) |\n",
    "|---------------|------------|-------------------|\n",
    "| Hydrogen      | Protium    | 1.007825          |\n",
    "| Carbon        | Carbon-12  | 12.000000         |\n",
    "| Nitrogen      | Nitrogen-14| 14.003074         |\n",
    "| Oxygen        | Oxygen-16  | 15.994915         |\n",
    "| Fluorine      | Fluorine-19| 18.998403         |\n",
    "| Chlorine      | Chlorine-35| 34.968853         |\n",
    "| Bromine       | Bromine-79 | 78.918338         |\n",
    "| Iodine        | Iodine-127 | 126.904473        \n",
    "</details>\n",
    "\n",
    "<details>\n",
    "  <summary>Diatomic molecule frequencies</summary>\n",
    "    Here is a table of the fundamental frequencies for several diatomic molecules determined by molecular spectroscopy.\n",
    "\n",
    "| Molecule       | Fundamental frequency ($\\nu$)  | Angular frequency ($\\omega$)     |\n",
    "|----------------|--------------------------------|----------------------------------|\n",
    "| HF             |  $8.721×10^{13}\\ {\\rm s}^{-1}$               |$2907\\ {\\rm cm}^{-1}$ |\n",
    "| HCl            |  $8.658×10^{13}\\ {\\rm s}^{-1}$               |$2886\\ {\\rm cm}^{-1}$ |\n",
    "| HBr            |  $7.677×10^{13}\\ {\\rm s}^{-1}$               |$2559\\ {\\rm cm}^{-1}$ |\n",
    "| HI             |  $6.690×10^{13}\\ {\\rm s}^{-1}$               |$2230\\ {\\rm cm}^{-1}$ |\n",
    "| CO             |  $6.429×10^{13}\\ {\\rm s}^{-1}$               |$2143\\ {\\rm cm}^{-1}$ |\n",
    "| NO             |  $5.628×10^{13}\\ {\\rm s}^{-1}$               |$1876\\ {\\rm cm}^{-1}$ |\n",
    "</details>\n",
    "\n",
    "<details>\n",
    "  <summary>Example Caluclation</summary>\n",
    "    <mark> Insert example calculations </mark>\n",
    "</details>    "
   ]
  },
  {
   "cell_type": "code",
   "execution_count": 6,
   "metadata": {
    "tags": []
   },
   "outputs": [
    {
     "data": {
      "application/vnd.jupyter.widget-view+json": {
       "model_id": "7f9cd05e51c644d1826768e01ba2ef01",
       "version_major": 2,
       "version_minor": 0
      },
      "text/plain": [
       "interactive(children=(FloatSlider(value=1.0, description='mass (g)', max=2.0), FloatSlider(value=1.0, descript…"
      ]
     },
     "metadata": {},
     "output_type": "display_data"
    },
    {
     "data": {
      "text/plain": [
       "<function __main__.plot_harmonic(mass, omega, n_levels)>"
      ]
     },
     "execution_count": 6,
     "metadata": {},
     "output_type": "execute_result"
    }
   ],
   "source": [
    "import numpy as np\n",
    "import math\n",
    "import matplotlib.pyplot as plt\n",
    "#from scipy.constants import hbar, m, pi\n",
    "from scipy.special import hermite\n",
    "from scipy.linalg import norm\n",
    "from scipy.constants import pi \n",
    "from ipywidgets import interact, FloatSlider, IntSlider\n",
    "\n",
    "\n",
    "hbar = 1\n",
    "# Defining the normalized wavefunctions for the quantum harmonic oscillator\n",
    "def wavefunction(n, x, omega, mass):\n",
    "    # Hermite polynomial H_n(x) for the nth state\n",
    "    H_n = hermite(n)(x)\n",
    "    # Normalization factor\n",
    "    norm_factor = 1 / np.sqrt(2**n * math.factorial(n)) * (mass * omega / (pi * hbar))**0.25\n",
    "    # Wavefunction\n",
    "    return norm_factor * H_n * np.exp(-mass * omega * x**2 / (2 * hbar))\n",
    "\n",
    "def plot_harmonic(mass, omega, n_levels):\n",
    "    x = np.linspace(-5, 5, 1000)\n",
    "    \n",
    "    # H.O. Potential Energy\n",
    "    k= mass*omega**2\n",
    "    PE= 0.5 * k * x**2\n",
    "    \n",
    "    # Plot the potential energy curve  \n",
    "    plt.figure(figsize=(10, 6))\n",
    "    plt.plot(x, PE, label=r'$V(x) = \\frac{1}{2} k x^2$', color='red', lw=2)\n",
    "\n",
    "    # Plot the first 5 energy levels and wavefunctions\n",
    "    for n in range(int(n_levels)):\n",
    "        # Calculate the energy for the nth state\n",
    "        E_n = (n + 0.5) * hbar * omega\n",
    "        # Plot the wavefunction\n",
    "        plt.plot(x, wavefunction(n, x, omega, mass)**2 + E_n, label=f'n={n}, E={E_n/hbar:.2f}ħω', lw=2)\n",
    "\n",
    "    # Plot details\n",
    "    plt.axhline(0, color='black', lw=1)\n",
    "    plt.title('Quantum Harmonic Oscillator Potential and Wave Functions')\n",
    "    plt.xlabel('Position (x)')\n",
    "    plt.ylabel('Energy (E) / Wavefunction')\n",
    "    plt.legend(loc='best')\n",
    "    plt.grid(True)\n",
    "    plt.tight_layout()\n",
    "\n",
    "    # Show the plot\n",
    "    plt.show()\n",
    "\n",
    "# Generate interactive Plot\n",
    "mass_slider = FloatSlider(min=0, max=2, step=0.1, value=1.0, description='mass (g)')\n",
    "omega_slider = FloatSlider(min=0, max=10, step=0.1, value=1.0, description='Angular Frequency (Hz)')\n",
    "n_levels_slider = FloatSlider(min=0, max=10, step=1, value=5, description='n level')\n",
    "interact( plot_harmonic, mass= mass_slider, omega = omega_slider, n_levels= n_levels_slider )"
   ]
  },
  {
   "cell_type": "markdown",
   "metadata": {},
   "source": [
    "### Important Outcomes\n",
    "\n",
    "The solution of the quantum harmonic oscillator problem reveals two fundamental concepts that have no classical analogue: zero point energy and tunneling. These concepts highlight the profound differences between classical and quantum mechanics, and have far-reaching implications in various fields, including chemistry, physics, and biology. Understanding these outcomes is crucial for explaining the behavior of atoms, molecules, and other quantum systems, and has led to the development of advanced experimental techniques and technologies.\n",
    "\n",
    "#### Zero Point Energy (Z.P.E)\n",
    "\n",
    "Zero point energy refers to the lowest possible energy that a quantum mechanical system can have. In the case of the harmonic oscillator, the ground state energy is not zero, but rather $E_0 = \\frac{1}{2}h\\nu_0$, where $h$ is Planck's constant and $\\nu_0$ is the fundamental frequency of the oscillator. This non-zero ground state energy is a consequence of the Heisenberg uncertainty principle, which states that the position and momentum of a particle cannot be simultaneously known with perfect precision. As a result, even at absolute zero temperature, the oscillator still possesses some vibrational energy.\n",
    "\n",
    "The concept of zero point energy has important implications in various fields, such as:\n",
    "- Enzyme catalysis: Z.P.E contributes to the vibrational energy of enzymes, which can influence their catalytic activity and the rates of biochemical reactions.\n",
    "- Protein folding: The Z.P.E of the various vibrational modes in proteins can affect their stability and the dynamics of the folding process.\n",
    "- Molecular recognition: Z.P.E can play a role in the binding of ligands to proteins or other biomolecules, as it contributes to the overall energy of the system.\n",
    "\n",
    "#### Tunneling\n",
    "\n",
    "Tunneling is a quantum mechanical phenomenon in which a particle can pass through a potential barrier that it classically could not surmount. In the context of the harmonic oscillator, the probability function $\\psi^*\\psi$ shows a non-zero probability of finding the particle in the classically forbidden region, where the potential energy is greater than the total energy of the particle. This means that the particle can \"tunnel\" through the potential barrier, even though it does not have enough energy to do so according to classical mechanics.\n",
    "\n",
    "Tunneling has many important applications, such as:\n",
    "\n",
    "- Enzyme reactions: Quantum tunneling can enable hydrogen transfer reactions in enzymes, which are crucial for many biochemical processes, such as cellular respiration and photosynthesis.\n",
    "- DNA mutation: Proton tunneling can cause spontaneous mutations in DNA by allowing protons to overcome the energy barrier associated with breaking hydrogen bonds between base pairs.\n",
    "- Olfaction: It has been proposed that quantum tunneling might play a role in the mechanism of olfaction, allowing odorant molecules to trigger specific receptors in the nose.\n",
    "\n",
    "\n",
    "Zero point energy and tunneling are two key concepts that emerge from the quantum mechanical description of the harmonic oscillator. These phenomena have no classical analogue and highlight the fundamental differences between classical and quantum mechanics. Understanding these concepts is crucial for explaining various physical, chemical, and biological processes at the atomic and molecular scales. In biology, Z.P.E and tunneling can influence enzyme catalysis, protein folding, molecular recognition, and other essential processes that underlie life at the molecular level.\n",
    "\n",
    "### Shortcomings of the Harmonic Oscillator\n",
    "\n",
    "Although useful, the harmonic oscillator model has some limitations:\n",
    "\n",
    "1. The potential is symmetric and extends to infinity, which is not physically realistic for molecules.\n",
    "2. The energy levels are evenly spaced, which is not observed experimentally in molecular spectra.\n",
    "3. It does not account for molecular dissociation at high energies.\n",
    "\n",
    "To overcome these limitations, more accurate models, such as the Morse oscillator, are needed to describe the potential energy of a diatomic molecule."
   ]
  },
  {
   "cell_type": "markdown",
   "metadata": {
    "tags": []
   },
   "source": [
    "### The Morse Oscillator\n",
    "\n",
    "*The Morse oscillator is a more physically realistic model of diatomic stretching motion.*\n",
    "\n",
    "\n",
    "\n",
    "The simple quantum harmonic oscillator can be used as a first-order model for a diatomic molecule.  A physically unreasonable aspect of this model is that the molecule can never dissociate.  The two sides of the parabola of the potential energy curve continue up to infinity.  In contrast, a real molecule will break apart as you increase the vibrational energy and will dissociate into two particles.\n",
    "\n",
    "A more reasonable model was suggested by Philip M. Morse.  Plotting his equation gives the potential energy curve depicted below:\n",
    "\n",
    "The Morse Oscillator is an ordinary differential equation\n",
    "\n",
    "$$\\eqalign{{\\widehat H}\n",
    "&={-\\hbar ^2 \\over 2 m}\n",
    "{\\partial ^2 \\over {\\partial r}^2}\n",
    "+ D (e ^ {-2\\beta (r - r_e)} - 2 e ^ {-\\beta (r - r_e)})}$$\n",
    "\n",
    "with $r_e = 1.75\\ \\text{bohr}$, $m = 19/20\\ \\text{amu}$,\n",
    "$D = 5.716\\ \\text{eV}$, and $\\beta = 1.2121\\ \\text{bohr}{}^{-1}$.\n",
    "\n",
    "These parameters yield 23 bound states with analytic eigenvalues\n",
    "given by\n",
    "\n",
    "$$\\eqalign{\\epsilon_n = \\hbar\\omega (n + {1 / 2}) -\n",
    "\\hbar\\omega x_e {(n + {1 / 2})} ^ 2} $$\n",
    "\n",
    "where $n = 0, 1, \\ldots, 22 $, $\\omega = 0.01887914$,\n",
    "and $x_e = 0.02246885$.\n"
   ]
  },
  {
   "cell_type": "code",
   "execution_count": 7,
   "metadata": {
    "tags": []
   },
   "outputs": [
    {
     "data": {
      "application/vnd.jupyter.widget-view+json": {
       "model_id": "1bb58cdb541f4c0d8b682f7b59550366",
       "version_major": 2,
       "version_minor": 0
      },
      "text/plain": [
       "interactive(children=(FloatSlider(value=1.0, description='Depth (m)', max=2.0), FloatSlider(value=1.75, descri…"
      ]
     },
     "metadata": {},
     "output_type": "display_data"
    },
    {
     "data": {
      "text/plain": [
       "<function __main__.plot_morse(De, a, xe)>"
      ]
     },
     "execution_count": 7,
     "metadata": {},
     "output_type": "execute_result"
    }
   ],
   "source": [
    "import numpy as np\n",
    "import matplotlib.pyplot as plt\n",
    "from ipywidgets import interact, FloatSlider, IntSlider\n",
    "\n",
    "# Morse potential function\n",
    "def morse_potential(x, De, a, xe):\n",
    "    return De * (1 - np.exp(-a * (x - xe)))**2\n",
    "\n",
    "def plot_morse(De,a,xe):\n",
    "    # Generate a range of x values\n",
    "    x_values = np.linspace(0.5, 2.5, 500)  # From 0.5 to 2.5 Angstroms, for example\n",
    "\n",
    "    # Compute the potential energy for each x value\n",
    "    V_values = morse_potential(x_values, De, a, xe)\n",
    "\n",
    "    # Plotting the Morse potential\n",
    "    plt.figure(figsize=(8, 6))\n",
    "    plt.plot(x_values, V_values, label=r'Morse Potential: $V(x) = D_e(1 - e^{-a(x - x_e)})^2$')\n",
    "    plt.axvline(x=xe, color='r', linestyle='--', label=f'Equilibrium bond length ($x_e = {xe}$)')\n",
    "    plt.title('Morse Oscillator Potential Energy Curve')\n",
    "    plt.xlabel('Bond length $x$ (Angstroms)')\n",
    "    plt.ylabel('Potential energy $V(x)$')\n",
    "    plt.legend()\n",
    "    plt.grid(True)\n",
    "    plt.show()\n",
    "    \n",
    "# Run \n",
    "Depth_slider = FloatSlider(min=0, max=2, step=0.1, value=1.0, description='Depth (m)')\n",
    "Width_slider = FloatSlider(min=0, max=10, step=0.1, value=1.75, description='Width (m)')\n",
    "equilibrium_slider = FloatSlider(min=0, max=10, step=1, value=1, description='Equilibrium bond length')\n",
    "interact( plot_morse, De=Depth_slider,a=Width_slider,xe=equilibrium_slider )"
   ]
  },
  {
   "cell_type": "markdown",
   "metadata": {},
   "source": [
    "## **Born-Oppenheimer Approximation and Electronic Schrödinger Equation**\n",
    "\n",
    "In quantum chemistry, the Born-Oppenheimer approximation is a fundamental concept that simplifies the problem of solving the Schrödinger equation for molecules. This approximation is based on the fact that the nuclei of atoms are much heavier than electrons, and therefore, their motion is much slower. As a result, we can separate the motion of electrons from that of the nuclei, treating the nuclei as fixed point charges while solving the electronic Schrödinger equation.\n",
    "\n",
    "The electronic Schrödinger equation is given by:\n",
    "\n",
    "$$\\hat{H}_{elec}\\psi_{elec} = E_{elec}\\psi_{elec}$$\n",
    "\n",
    "where:\n",
    "\n",
    "- $\\hat{H}_{elec}$ is the electronic Hamiltonian operator\n",
    "- $\\psi_{elec}$ is the electronic wave function\n",
    "- $E_{elec}$ is the electronic energy\n",
    "\n",
    "The electronic Hamiltonian operator $\\hat{H}_{elec}$ consists of the kinetic energy of the electrons and the potential energy terms describing the interactions between electrons and nuclei, as well as the interactions among electrons:\n",
    "\n",
    "$$\\hat{H}_{elec} = \\hat{T}_{elec} + \\hat{V}_{elec-nuc} + \\hat{V}_{elec-elec}$$\n",
    "\n",
    "where:\n",
    "\n",
    "- $\\hat{T}_{elec}$ is the kinetic energy operator for the electrons\n",
    "- $\\hat{V}_{elec-nuc}$ is the potential energy operator for the electron-nucleus attraction\n",
    "- $\\hat{V}_{elec-elec}$ is the potential energy operator for the electron-electron repulsion\n",
    "\n",
    "The electron-nucleus attraction term $\\hat{V}_{elec-nuc}$ is given by:\n",
    "\n",
    "$$\\hat{V}_{elec-nuc} = -\\sum_{i=1}^{N}\\sum_{A=1}^{M}\\frac{Z_A e^2}{4\\pi\\varepsilon_0 r_{iA}}$$\n",
    "\n",
    "where $N$ is the number of electrons, $M$ is the number of nuclei, $Z_A$ is the atomic number of nucleus $A$, $e$ is the elementary charge, $\\varepsilon_0$ is the vacuum permittivity, and $r_{iA}$ is the distance between electron $i$ and nucleus $A$.\n",
    "\n",
    "The electron-electron repulsion term $\\hat{V}_{elec-elec}$ is given by:\n",
    "\n",
    "$$\\hat{V}_{elec-elec} = \\sum_{i=1}^{N}\\sum_{j>i}^{N}\\frac{e^2}{4\\pi\\varepsilon_0 r_{ij}}$$\n",
    "\n",
    "where $r_{ij}$ is the distance between electrons $i$ and $j$.\n",
    "\n",
    "Solving the electronic Schrödinger equation yields the electronic wave function $\\psi_{elec}$ and the electronic energy $E_{elec}$. The total energy of the system is then obtained by adding the nuclear repulsion energy to the electronic energy:\n",
    "\n",
    "$$E_{total} = E_{elec} + \\sum_{A=1}^{M}\\sum_{B>A}^{M}\\frac{Z_A Z_B e^2}{4\\pi\\varepsilon_0 R_{AB}}$$\n",
    "\n",
    "where $R_{AB}$ is the distance between nuclei $A$ and $B$.\n",
    "\n",
    "The Born-Oppenheimer approximation and the electronic Schrödinger equation form the foundation for various quantum chemistry methods, such as the Hartree-Fock method, post-Hartree-Fock methods (e.g., configuration interaction, coupled cluster, and Møller-Plesset perturbation theory), and density functional theory. These methods aim to solve the electronic Schrödinger equation with increasing levels of accuracy and computational efficiency, allowing for the determination of the electronic structure and properties of molecules.\n",
    "\n",
    "<details>\n",
    "  <summary>H2 Example Calculation</summary>\n",
    "    Given:\n",
    "\n",
    "\n",
    "<ol>\n",
    "  <li>The H2 molecule consists of two hydrogen atoms, each with one electron and one proton.</li>\n",
    "  <li>The internuclear distance in the H2 molecule is approximately 0.74 Å (7.4 × 10^-11 m).</li>\n",
    "  <li>The atomic number of hydrogen is 1 (Z = 1).</li>\n",
    "  <li>The elementary charge is e = 1.602 × 10^-19 C.</li>\n",
    "  <li>The vacuum permittivity is ε0 = 8.854 × 10^-12 F/m.</li>\n",
    "</ol>\n",
    "Step 1: Calculate the electron-nucleus attraction term (V_elec-nuc) for each electron.\n",
    "\n",
    "\n",
    "For electron 1:<br>\n",
    "    \n",
    "$$V_{elec-nuc(1)} = -Z * e^2 / (4πε0 * r1A) - Z * e^2 / (4πε0 * r1B)=$$<br>\n",
    "$$  -1 * (1.602 × 10^-19)^2 / (4π * 8.854 × 10^-12 * 0.37 × 10^-10) - 1 * (1.602 × 10^-19)^2 / (4π * 8.854 × 10^-12 * 0.37 × 10^-10)=$$<br>\n",
    "$$ -2.309 × 10^-18 J$$\n",
    "\n",
    "\n",
    "For electron 2:<br>\n",
    "    \n",
    "$$V_{elec-nuc(2)} = -Z * e^2 / (4πε0 * r2A) - Z * e^2 / (4πε0 * r2B)=$$<br>\n",
    "$$-1 * (1.602 × 10^-19)^2 / (4π * 8.854 × 10^-12 * 0.37 × 10^-10) - 1 * (1.602 × 10^-19)^2 / (4π * 8.854 × 10^-12 * 0.37 × 10^-10)=$$<br>\n",
    "$$ -2.309 × 10^-18 J$$\n",
    "\n",
    "\n",
    "Step 2: Calculate the electron-electron repulsion term (V_elec-elec).<br>\n",
    "$$V_{elec-elec} = e^2 / (4πε0 * r12)=$$<br>\n",
    "$$(1.602 × 10^-19)^2 / (4π * 8.854 × 10^-12 * 0.74 × 10^-10)=$$<br>\n",
    "$$ 2.309 × 10^-19 J$$\n",
    "\n",
    "\n",
    "Step 3: Calculate the nuclear repulsion term.<br>\n",
    "$$V_{nuc-nuc} = Z1 * Z2 * e^2 / (4πε0 * R12)=$$<br>\n",
    "$$ 1 * 1 * (1.602 × 10^-19)^2 / (4π * 8.854 × 10^-12 * 0.74 × 10^-10)=$$<br>\n",
    "$$ 2.309 × 10^-19 J$$\n",
    "\n",
    "\n",
    "Step 4: Calculate the electronic energy (E_elec) by adding the electron-nucleus attraction and electron-electron repulsion terms.<br>\n",
    "$$E_{elec} = V_{elec-nuc(1)} + V_{elec-nuc(2)} + V_{elec-elec}=$$<br>\n",
    "$$ (-2.309 × 10^-18) + (-2.309 × 10^-18) + (2.309 × 10^-19)=$$<br>\n",
    "$$ -4.387 × 10^-18 J$$\n",
    "\n",
    "\n",
    "Step 5: Calculate the total energy (E_total) by adding the electronic energy and the nuclear repulsion term.<br>\n",
    "$$E_{total} = E_{elec} + V_{nuc-nuc}=$$<br>\n",
    "$$ (-4.387 × 10^-18) + (2.309 × 10^-19)=$$<br>\n",
    "$$ -4.156 × 10^-18 J$$\n",
    "</details>    "
   ]
  },
  {
   "cell_type": "markdown",
   "metadata": {},
   "source": [
    "## Potential Energy Surfaces\n",
    "Potential energy surfaces (PES) are a fundamental concept in chemistry and biochemistry that provide a powerful framework for understanding the behavior and properties of molecules. A PES is a mathematical representation of the potential energy of a molecule as a function of its geometric configuration. It can be visualized as a multidimensional landscape that describes how the energy of a molecule changes as its atomic positions vary.\n",
    "\n",
    "The Significance of Potential Energy Surfaces: PES play a crucial role in understanding various aspects of molecular behavior, including:\n",
    "\n",
    "- Stability: The minima on a PES represent stable configurations of a molecule, such as equilibrium geometries or conformations. By locating these minima, we can determine the most energetically favorable structures of a molecule.\n",
    "\n",
    "- Reactivity: The shape of a PES provides insights into the reactivity of a molecule. Transition states, which are saddle points on the PES, determine the energy barriers for chemical reactions. By studying the PES, we can predict reaction pathways, rates, and mechanisms.\n",
    "\n",
    "- Spectroscopy: PES are closely related to the spectroscopic properties of molecules. The vibrational and rotational energy levels of a molecule are determined by the shape of the PES near the equilibrium geometry. By analyzing the PES, we can interpret and predict spectroscopic data.\n",
    "\n",
    "## Diatomic Moleucules PES \n",
    "Calculating Potential Energy Surfaces for Diatomic Molecules: For diatomic molecules, calculating the PES is relatively straightforward. The potential energy of a diatomic molecule depends only on the distance between the two atoms, making it a one-dimensional problem.\n",
    "\n",
    "To calculate the PES of a diatomic molecule, we need to determine the potential energy at different internuclear distances. This can be done using various methods, such as:\n",
    "\n",
    "Experimental Measurements: Spectroscopic techniques, such as rotational and vibrational spectroscopy, can provide experimental data on the energy levels of a diatomic molecule. From these energy levels, the PES can be reconstructed.\n",
    "\n",
    "Ab Initio Quantum Chemistry: Ab initio methods, such as Hartree-Fock and coupled cluster, solve the electronic Schrödinger equation to calculate the electronic energy of a molecule at different internuclear distances. These calculations provide a theoretical estimate of the PES.\n",
    "\n",
    "Empirical Potentials: Empirical potential functions, such as the Morse potential or the Lennard-Jones potential, can be used to model the PES of a diatomic molecule. These functions are based on experimental data and provide a simple and efficient way to describe the PES.\n",
    "\n",
    "By calculating the potential energy at various internuclear distances, we can construct the PES of a diatomic molecule. The resulting curve represents the energy landscape of the molecule, revealing important features such as equilibrium bond length, dissociation energy, and vibrational energy levels.\n",
    "\n",
    "The provided code demonstrates how to calculate and plot the PES for diatomic molecules using the Atomic Simulation Environment (ASE) library and the Effective Medium Theory (EMT) potential. It allows users to interactively explore the PES of different diatomic molecules and visualize the energy landscape.\n",
    "\n",
    "In the next section, we will discuss the challenges of calculating PES for larger molecules and explore advanced approaches and approximation methods that can handle these systems."
   ]
  },
  {
   "cell_type": "code",
   "execution_count": 7,
   "metadata": {
    "tags": []
   },
   "outputs": [
    {
     "data": {
      "application/vnd.jupyter.widget-view+json": {
       "model_id": "ce638824bb9d4966bcc40a16397421a5",
       "version_major": 2,
       "version_minor": 0
      },
      "text/plain": [
       "interactive(children=(FloatSlider(value=1.0, description='Mass (kg)', max=10.0, min=0.1), FloatSlider(value=1.…"
      ]
     },
     "metadata": {},
     "output_type": "display_data"
    },
    {
     "data": {
      "text/plain": [
       "<function __main__.plot_morse_oscillator(mass, spring_constant, damping_coefficient, initial_position, initial_velocity, time_span, num_points)>"
      ]
     },
     "execution_count": 7,
     "metadata": {},
     "output_type": "execute_result"
    }
   ],
   "source": [
    "from ase import Atoms\n",
    "from ase.calculators.emt import EMT\n",
    "import numpy as np\n",
    "import matplotlib.pyplot as plt\n",
    "import ipywidgets as widgets\n",
    "from ipywidgets import interact, Dropdown\n",
    "from IPython.display import display\n",
    "\n",
    "def calculate_and_plot(molecule_symbol):\n",
    "    # Define the molecule based on the given symbol\n",
    "    if molecule_symbol == 'H2':\n",
    "        molecule = Atoms('H2', positions=[[0, 0, 0], [0, 0, 0.75]])\n",
    "    elif molecule_symbol == 'N2':\n",
    "        molecule = Atoms('N2', positions=[[0, 0, 0], [0, 0, 1.1]])\n",
    "    elif molecule_symbol == 'O2':\n",
    "        molecule = Atoms('O2', positions=[[0, 0, 0], [0, 0, 1.2]])\n",
    "    elif molecule_symbol == 'CO':\n",
    "        molecule = Atoms('CO', positions=[[0, 0, 0], [0, 0, 1.13]])\n",
    "    else:\n",
    "        raise ValueError(f\"Unsupported molecule: {molecule_symbol}\")\n",
    "\n",
    "    # Set up the calculator (using the EMT potential)\n",
    "    calculator = EMT()\n",
    "    molecule.calc = calculator\n",
    "\n",
    "    # Define the range of bond lengths to calculate the energy\n",
    "    bond_lengths = np.linspace(0.5, 2.0, 100)\n",
    "\n",
    "    # Calculate the potential energy for each bond length\n",
    "    energies = []\n",
    "    for bond_length in bond_lengths:\n",
    "        molecule.positions[1, 2] = bond_length\n",
    "        energy = molecule.get_potential_energy()\n",
    "        energies.append(energy)\n",
    "\n",
    "    # Create the plot\n",
    "    plt.figure(figsize=(8, 6))\n",
    "    plt.plot(bond_lengths, energies, 'b-', linewidth=2)\n",
    "    plt.xlabel('Bond Length (Å)')\n",
    "    plt.ylabel('Potential Energy (eV)')\n",
    "    plt.title(f'Potential Energy Curve - {molecule_symbol} Molecule')\n",
    "    plt.grid(True)\n",
    "    plt.tight_layout()\n",
    "    plt.show()\n",
    "\n",
    "# Create the dropdown widget and set up the interactive plot\n",
    "molecule_dropdown = Dropdown(\n",
    "    options=['H2', 'N2', 'O2', 'CO'],\n",
    "    value='H2',\n",
    "    description='Molecule:'\n",
    ")\n",
    "\n",
    "interact(calculate_and_plot, molecule_symbol=molecule_dropdown)"
   ]
  },
  {
   "cell_type": "markdown",
   "metadata": {},
   "source": [
    "## Challenges With PES \n",
    "Challenges and Advanced Approaches for Larger Molecules: While calculating the PES for diatomic molecules is relatively straightforward, extending this approach to larger molecules presents significant challenges. As the number of atoms in a molecule increases, the dimensionality of the PES grows exponentially, making it computationally demanding to explore the entire energy landscape.\n",
    "\n",
    "The main challenges in calculating PES for larger molecules include:\n",
    "\n",
    "Computational Cost: Ab initio quantum chemistry methods, which provide accurate electronic energies, become computationally expensive for larger systems. The computational cost scales unfavorably with the number of atoms, limiting the applicability of these methods to small and medium-sized molecules.\n",
    "\n",
    "Conformational Complexity: Larger molecules, especially biomolecules like proteins, can adopt a vast number of conformations. Exploring the PES of these molecules requires sampling a high-dimensional conformational space, which is computationally challenging.\n",
    "\n",
    "Intermolecular Interactions: In addition to the intramolecular interactions within a molecule, larger systems often involve intermolecular interactions, such as hydrogen bonding and van der Waals forces. Accurately describing these interactions adds another layer of complexity to the calculation of PES.\n",
    "\n",
    "To overcome these challenges, several advanced approaches and approximation methods have been developed:\n",
    "\n",
    "Molecular Mechanics: Molecular mechanics methods, such as force fields, use classical physics to model the potential energy of a molecule. They rely on empirical parameters derived from experimental data and quantum mechanical calculations. Force fields provide a computationally efficient way to estimate the PES of large molecules by simplifying the electronic structure and focusing on the overall molecular geometry.\n",
    "\n",
    "Semi-Empirical Methods: Semi-empirical quantum chemistry methods, such as PM3 and AM1, use simplified approximations and parameterized models to reduce computational cost. These methods strike a balance between accuracy and efficiency, allowing for the calculation of PES for larger systems.\n",
    "\n",
    "Fragment-Based Approaches: Fragment-based methods divide a large molecule into smaller fragments, calculate the PES of each fragment separately, and then combine the results to obtain the overall PES. This approach reduces the computational burden by treating smaller subsystems independently and has been successfully applied to study the PES of proteins and other biomolecules.\n",
    "\n",
    "Machine Learning Techniques: Machine learning algorithms, such as neural networks and Gaussian process regression, have emerged as powerful tools for predicting PES. These methods learn from a set of reference calculations and can predict the potential energy of new molecular configurations with high accuracy and efficiency. Machine learning-based PES have shown promise in accelerating the exploration of conformational space and studying the dynamics of large molecules.\n",
    "\n",
    "Enhanced Sampling Techniques: To efficiently explore the relevant regions of the PES, enhanced sampling techniques, such as metadynamics and umbrella sampling, are employed. These methods bias the sampling towards important configurations and energy barriers, allowing for faster convergence and identification of key features of the PES.\n",
    "\n",
    "By leveraging these advanced approaches and approximations, researchers can extend the calculation of PES to larger molecules and gain valuable insights into their behavior and properties. However, it is important to carefully consider the trade-offs between accuracy and computational feasibility when selecting the appropriate method for a given system."
   ]
  },
  {
   "cell_type": "markdown",
   "metadata": {},
   "source": [
    "------------------------\n",
    "# 📖 **Submodule 4 QUIZ**"
   ]
  },
  {
   "cell_type": "code",
   "execution_count": null,
   "metadata": {},
   "outputs": [],
   "source": [
    "#Render Quiz: Q1\n",
    "from IPython.display import IFrame\n",
    "IFrame('quiz/submodule3_quiz.html', width=1000, height=1000)"
   ]
  },
  {
   "cell_type": "markdown",
   "metadata": {},
   "source": [
    "---------------\n",
    "## **Conclusions**\n",
    "This submodule provides a foundation in quantum chemistry, introducing essential concepts such as tunneling and zero-point energy. Students will gain a comprehensive understanding of the time-independent Schrödinger equation and its applications to various systems, including the harmonic oscillator, quantum harmonic oscillator, Morse oscillator, electronic Schrödinger equation, and potential energy surfaces. These topics are crucial for understanding the underlying principles behind a wide range of biochemical techniques.\n",
    "\n",
    "## **Clean Up**\n",
    "<div class=\"alert alert-block alert-warning\"> <b>Attention:</b> Remember to shutdown VM and delete any relevant resources</a>. </div>"
   ]
  },
  {
   "cell_type": "markdown",
   "metadata": {},
   "source": [
    "# References\n",
    "\n",
    "1.  \"Diatomic Molecules According to the Wave Mechanics. II. Vibrational Levels\", Philip M. Morse, Phys. Rev. 34, 57 – 1 July, 1929.\n",
    "\n",
    "2.  \"Calculation of Matrix Elements for One-Dimensional Quantum-Mechanical Problems with the Application to Anharmonic Oscillators,\" D.O. Harris, G.G. Engerholm, and W.D. Gwinn, *J. Chem. Phys.* **43**, xx, 1965."
   ]
  }
 ],
 "metadata": {
  "kernelspec": {
   "display_name": "conda_python3",
   "language": "python",
   "name": "conda_python3"
  },
  "language_info": {
   "codemirror_mode": {
    "name": "ipython",
    "version": 3
   },
   "file_extension": ".py",
   "mimetype": "text/x-python",
   "name": "python",
   "nbconvert_exporter": "python",
   "pygments_lexer": "ipython3",
   "version": "3.10.16"
  }
 },
 "nbformat": 4,
 "nbformat_minor": 4
}
