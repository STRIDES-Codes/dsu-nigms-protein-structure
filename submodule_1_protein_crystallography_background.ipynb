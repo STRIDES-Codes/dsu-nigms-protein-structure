{
 "cells": [
  {
   "cell_type": "markdown",
   "metadata": {},
   "source": [
    "# Submodule 1 – Background on Protein Crystallography"
   ]
  },
  {
   "cell_type": "markdown",
   "metadata": {},
   "source": [
    "\n",
    "## Overview\n",
    "Protein crystallography is an excellent tool used to visualize interactions within biomolecules such as proteins with atomic resolution. The structure of a protein can be used to learn about ligand binding, enzyme mechanisms, structure-based drug design, and evolutionarily relationships with other organisms. Before delving into the two main challenges of crystallography (1. crystalizing a protein and 2. solving the structure) a thorough background on protein structure is necessary. However, this will not rehash to standard introductory discussions seen in undergraduate textbooks on the subject, but rather will focus on aspects of protein structure that are of particular interest to a structural biologist.  "
   ]
  },
  {
   "cell_type": "markdown",
   "metadata": {
    "tags": []
   },
   "source": [
    "## Learning Objectives\n",
    "- Understand how protein structure can affect crystallization\n",
    "- Become familiar with the rules of structural biology that govern protein interactions\n",
    "- Analyze active sites to better understand enzyme function\n"
   ]
  },
  {
   "cell_type": "markdown",
   "metadata": {
    "tags": []
   },
   "source": [
    "## Prerequisites\n",
    "- A working knowledge of general chemistry and protein structure at the undergraduate level."
   ]
  },
  {
   "cell_type": "markdown",
   "metadata": {
    "tags": []
   },
   "source": [
    "----------\n",
    "## Protein Crystallography – Introductory Concepts\n",
    "Here we will cover three topics to introduce protein crystallography:\n",
    "+ Basics of protein structure\n",
    "+ Introduction to protein crystallography\n",
    "+ Types of x-ray data"
   ]
  },
  {
   "cell_type": "markdown",
   "metadata": {},
   "source": [
    "### Basics of Protein Structure\n",
    "Looking at a protein model can be overwhelming for anyone first learning about how the structure affects its function. There are atoms and bonds everywhere, and it can be difficult to know where to start. An introduction to enzymes seems to always include the “PacMan” model where a circle missing a wedge binds to a similarly sized wedge, the wedge is transformed into another shape, and then dissociates.\n",
    "<img src='images/pacman_model.png'\n",
    "     align='middle'\n",
    "     width='800'/> <br>\n",
    "While this is fine for a very basic introduction to the concept, this model oversimplifies the process so much that it may cause confusion when students continue their studies on how an enzyme actually functions. The lack of solvent, necessary conformational changes, and, critically, how the structure of the active site stabilize the necessary interactions and transition states of the reaction, are completely left out. While complicated, there are good reasons why proteins have the structures they do because protein structure determines its function. If a ligand has several hydrogen bond donors and acceptors there needs to be complementary hydrogen bond donors and acceptors in the ligand binding site. If a ligand is hydrophobic, the ligand binding site needs to be hydrophobic. If an enzyme catalyzes a reaction where new bonds are made and broken, the atoms involved in the reaction must be in close proximity with each other along with the proper geometry to for correct orbital alignment as well as a corresponding microenvironment that stabilizes the transition state. A protein structure reveals all of this without the guesswork that comes from knowing an enzyme catalyzes a reaction but not knowing exactly how the process is done.\n",
    "\n",
    "#### Primary, secondary, tertiary, and quaternary protein structure\n",
    "Every biochemistry textbook dedicates many pages to the discussion of protein structure. Simply put, the primary sequence of a protein being translated by a ribosome will determine its final structure. A single polypeptide folds into a tertiary structure, and the biological function of many proteins are carried out as a single polypeptide chain. Most proteins form their functional biological unit by binding to one or more additional polypeptides to form a quaternary structure. Other factors can affect structure such as chaperone folding and posttranslational modifications like phosphorylation, glycosylation, ribosylation, etc.. Another consideration is the ribosomal environment itself because the nascent polypeptide chain will interact with the surface of the ribosome as it is being translated since folding occurs much faster than translation. In other words, the N-terminus is folding before the C-terminus is even translated. "
   ]
  },
  {
   "cell_type": "markdown",
   "metadata": {},
   "source": [
    "#### Protein Production and Folding\n",
    "The video below is a model illustraing the environment of the growing polypeptide chain as it emerges from a channel in the large subunit of the ribosome. This model does not take into consideration all the other small molecules and ions that are present which also may play a role in folding as these species also interact with the polypeptide. In no particular order, the main contributors to protein folding are:\n",
    "\n",
    "1. Primary sequence\n",
    "\n",
    "2. Water \n",
    "\n",
    "3. The nature of translation where the N-terminus is made first and will begin to fold before the final C-terminal residue is added\n",
    "\n",
    "4. The presence of binding partners (polypeptides and/or ligands) necessary to make a fully functional biological unit\n",
    "\n",
    "5. Chaperone proteins\n",
    "\n",
    "6. Post translational modifications\n",
    "\n",
    "7. The local surface of the large ribosomal subunit that interacts with the growing polypeptide"
   ]
  },
  {
   "cell_type": "code",
   "execution_count": 51,
   "metadata": {
    "tags": []
   },
   "outputs": [
    {
     "data": {
      "text/html": [
       "<video src=\"videos/Ribosome translating.mp4\" controls  width=\"1000\"  height=\"500\">\n",
       "      Your browser does not support the <code>video</code> element.\n",
       "    </video>"
      ],
      "text/plain": [
       "<IPython.core.display.Video object>"
      ]
     },
     "execution_count": 51,
     "metadata": {},
     "output_type": "execute_result"
    }
   ],
   "source": [
    "from IPython.display import Video\n",
    "\n",
    "#Video below from YouTube https://youtu.be/2dV5s6v2v8Q?si=o05odyyogwpRBgkk\n",
    "Video(\"videos/Ribosome translating.mp4\",width=1000, height=500)"
   ]
  },
  {
   "cell_type": "markdown",
   "metadata": {},
   "source": [
    "The first three contributors listed above (primary sequence, water, and nature of translation) are major contributors for every protein since they are universally applicable to any protein. The last four may or may not be involved depending on the protein. However, it is not possible to know to what extent these factors play a role; either because we are unaware of them, or cannot accurately model the potential ribosomal influence. Work in this area has been promoted by the Google DeepMind developers at Alphafold which is currently in its third iteration. It success is so widespread that developers Demis Hassabis and John Jumper were jointly awarded the 2024 Nobel Prize in Chemistry for protein structure prediction. Users are welcome to submit sequences and will receive an output structure. However, the figures below illustrate some strengths and weaknesses of this AI tool.\n",
    "\n",
    "<center><img src='images/Ribonuclease_overlay.png'\n",
    "     align='middle'\n",
    "     width='800'/> <br></center>\n",
    "\n",
    "Entering the primary sequence of ribonuclease (FASTA sequence obtained from PDB accession code 3AGN) into the AlphaFold 3 server gives a folded structure in excellent agreement with the actual x-ray structure. This protein is 114 residues in length and the predicted structure has a root mean square deviation of a mere 0.5814 Å. However, ribonuclease is perhaps the most studied protein for the purpose of protein folding research. Since AI must learn how proteins are folded, there could be bias introduced by a single example making up a large amount of the literature on the topic of protein folding. To check this the sequence from another less well-known protein, CysO from Mycobacterium tuberculosis, was entered into the AlphaFold 3 server (PDBID = 3DWM). CysO is only 93 residues in length and is also in the class of α and β proteins along with ribonuclease. However, the predicted model was vastly different from the actual one, giving an RMSD of 4.4014 Å despite being a smaller protein than ribonuclease. \n",
    "\n",
    "<center><img src='images/alphafoldv2.png'\n",
    "     align='middle'\n",
    "     width='800'/> <br></center>\n",
    "    \n",
    "Based on the numerous structures solved with AlphaFold this example is clearly an outlier. It is simply a nod to the fact that we must be cautious when interpreting predicted folded models since they may still contain significant errors. Also, these folding predictions can neither tell us about protein-protein interactions with various binding partners, nor about active site and allosteric ligand binding. Much of this still requires actual data that result from x-ray diffraction, cryo-EM, and/or biomolecular NMR experiments. Predicted structures can and will be the in the future of structural biology but are unable to completely replace the work of structural determination. "
   ]
  },
  {
   "cell_type": "markdown",
   "metadata": {
    "tags": []
   },
   "source": [
    "---------------\n",
    "### Introduction to Protein Crystallography\n",
    "A crystal is a solid state of matter that has an ordered repeat of atoms, molecule that is defined by its unit cell parameters. In the context of protein crystallography this leads to a three-dimensional pattern of proteins in a unit cell. Proteins do not naturally crystalize on their own, but there are many examples of protein aggregates that form crystalline or non-crystalline structures. Some examples of normal ordered repeats of many proteins include actin filaments, and microtubules. Others arise when something has gone wrong. Examples of proteins in living systems associated with disease states are β-amyloid fibers, polymers of hemoglobin seen in sickle cell anemia, and cataracts.<br>\n",
    "\n",
    "In order for proteins to crystalize it is necessary to get them to interact with each other in a way that is repeatable to generate a unit cell, all while maintaining their three-dimensional structure. Since proteins do not normally do this, we can coax them into interacting by attempting to crystalize the protein in the presence of different compounds and varying the pH. This usually requires a large amount of highly pure protein. The large amount is necessary for protein crystal screening and crystal harvesting for x-ray diffraction studies, and the high purity is to avoid unwanted contaminants getting in the way of crystallization.\n",
    "\n",
    "Screening for protein crystallization conditions involve varying the following parameters:\n",
    "* pH\n",
    "* Precipitant\n",
    "* Ions\n",
    "* Additives\n",
    "\n",
    "The process begins with a highly purified protein in a minimal amount of buffer at a pH where the protein is stable. This is followed by using a sparce matrix screen that contains buffers with varying pH, precipitants, and ions. The goal is to find one condition that will yield either crystals, or a crystalline solid that can be further optimized by making slight changes in pH and concentration of precipitants and ions. \n",
    "\n",
    "Changing pH will also change the charge density on the surface of a protein because many surface residues can be charged such as histidine and glutamate. The figure below, calculated using the *APBS-PDB2PQR software suite*, shows the progression of the how the surface of the protein actin (`PDBID = 1J6Z`) changes with pH.\n",
    "\n",
    "<center><img src='images/pH_Surfaces.png'\n",
    "     align='middle'\n",
    "     width='800'/> </center>\n",
    "\n",
    "Positive charges are shown in blue, neutral in white, and negative in red. The brighter the color the stronger the charge. As the pH increases so does the net negative charge on the surface of the protein. This is because more glutamic acid and aspartic acid residues become negatively charged glutamate and aspartate residues, and more histidine, lysine, and arginine residues lose a proton go from positively charged to neutral. This protein crystalized at a pH of 7.0, and in the figure above the arrows on the pH 7.0 structure show the approximate location of crystal contacts made between this monomer and its nearest neighbors in the crystal. Changing the pH affected the surface residues in these locations to allow for crystal contacts to form.<br>\n",
    "\n",
    "Precipitants are added to crystallization buffers to get the proteins to interact with each other, but not in a way that results in denaturation. Common precipitants are salts like ammonium sulfate, polyethylene glycols, and alcohols. Addition of these compounds require water the solvate them. This sequesters water molecules for the purposes of solvation and drives proteins to interact with each other more. This is where small contacts between proteins can form. If they are the same points in all proteins this will form a small crystal or nucleation point which can grow to a macroscopic crystal. Ions and additives like cofactors and small molecules can help stabilize the formation of crystals as well.\n",
    "\n",
    "#### Challenges in Crystallography\n",
    "\n",
    "The great challenge in crystallography is that there is no way to look at a protein sequence and predict what crystallization conditions will actually work. One commonly used tactic is to look for crystals using sparce matrix screens and hope that at least one condition produces crystals that are diffraction quality. However, what often happens is there is a “hit” – indicating the presence of something crystalline – but what crystalizes is not suitable for diffraction studies. The crystals could be too small, or clusters of plates or needles. When this happens the crystallization conditions need to be “optimized” which generally means making screens by hand that have slight changes in parameters like pH and precipitant concentrations to see if these small changes will give better crystals. Protein crystals are often grown by mixing a small amount of purified protein solution with another small amount of crystallization buffer to make a small drop that is placed on a siliconized glass cover slide. The cover slide is then placed over a crystal tray which has 24 or 48 wells for each drop experiment (larger trays of 396 wells are used by crystallization robots that use much nanoliter scale volumes). Each well has the cover slide with its drop placed over it and is sealed with silicone grease. Every well contains crystallization buffer that either comes from a commercially available screening kit or is customized by the experimenter. Over time the drop equilibrates with the well solution, concentrating it down until the excess water is gone, and the hanging drop achieves the same concentration as the well solution over which it is suspended. This slowly concentrates the protein which can help with crystallization.<br>\n",
    "\n",
    "##### Example Buffer Screening Preparations\n",
    "Here we will go through a simple example for screening 24 buffer conditions. First let's set the screening conditions where the total volume of the crystal well is 500 μL, the concentration of each buffer is 500 mM, and the concentration of PEG is 25 wt%/vol (calculated by dissolving 25 grams of PEG 3350 in a total volume of 100 mL of water). "
   ]
  },
  {
   "cell_type": "code",
   "execution_count": null,
   "metadata": {
    "tags": []
   },
   "outputs": [],
   "source": [
    "#install pandas library\n",
    "%pip install pandas --quiet"
   ]
  },
  {
   "cell_type": "code",
   "execution_count": null,
   "metadata": {
    "tags": []
   },
   "outputs": [],
   "source": [
    "# Import libraries to display excel table\n",
    "import pandas as pd\n",
    "from IPython.display import display\n",
    "\n",
    "# Load the updated Excel file\n",
    "file_path = 'Excel_docs/Submodule1_buffer_preps.xlsx'\n",
    "df = pd.read_excel(file_path, sheet_name='Parameters', index_col=0, usecols='A:D')\n",
    "display(df.round(0))"
   ]
  },
  {
   "cell_type": "markdown",
   "metadata": {},
   "source": [
    "Now let's calculate a table for the 24 screening buffers conditions where we calculate reagent volumes for each buffer. Here we will vary pH from 5.0 – 9.0 and screen PEG 3350 at concentrations of 8%, 12%, and 16%. "
   ]
  },
  {
   "cell_type": "code",
   "execution_count": null,
   "metadata": {
    "tags": []
   },
   "outputs": [],
   "source": [
    "# Import libraries to display excel table\n",
    "import pandas as pd\n",
    "from IPython.display import display\n",
    "\n",
    "# Load the updated Excel file\n",
    "file_path = 'Excel_docs/Submodule1_buffer_preps.xlsx'\n",
    "df = pd.read_excel(file_path, sheet_name='Preps', index_col=0, usecols='A:M')\n",
    "display(df.round(0))"
   ]
  },
  {
   "cell_type": "markdown",
   "metadata": {},
   "source": [
    "##### Experimental Considerations\n",
    "When setting up a crystallization drop experiments there are a few things to consider such as initial protein concentration, incubation temperature, and crystal drop which can vary in volume and method type. \n",
    "\n",
    "- <u>Protein concentration</u> – 10 mg/mL is a common starting point for crystallization, but this can vary widely depending on the solubility of the protein. Also, if initial screening with sparce matrix kits produces mostly drops containing heavy precipitate, this may indicate that the starting concentration was too high. Conversely, if most of the drops are clear, this may indicate the starting concentration was too low.\n",
    "- <u>Incubation temperature</u> – The temperature typically ranges from around 4 °C – 22 °C. The higher the temperature the faster the hanging drop will equilibrate, and the faster crystals may appear. However, this only works if the protein is stable at higher temperatures. Another consideration is that fast growing crystals may have internal disorder that leads to poor diffraction. If this happens, incubating at a lower temperature to slow crystal growth may improve the crystal quality.\n",
    "- <u>Drop volume</u> – Drops can vary in size, but a good place to start is 1 μL or protein solution mixed with 1 μL of crystallization buffer – a so called 1:1 drop. It is possible to vary the ratio to have more or less protein, but if the total drop volume is too large or too small it may be difficult to handle. In general, a drop with more protein solution than crystallization buffer will take longer to equilibrate. \n",
    "- <u>Method type</u> – Commonly used methods are the hanging, sitting, and sandwich drop methods. Hanging drop equilibrates the fastest with sitting and sandwich drops being slower. \n",
    "\n",
    "<center><img src='images/Crystalization_Methods.png'\n",
    "     align='middle'\n",
    "     width='800'/><center> \n"
   ]
  },
  {
   "cell_type": "markdown",
   "metadata": {
    "tags": []
   },
   "source": [
    "--------------\n",
    "### Types of X-ray Data\n",
    "Once crystals have been grown that diffract well, the next significant challenge is the matter of solving the phase problem. In order to solve a structure and build a model there needs to be an interpretable 3D electron density map which is derived, in part, from the reflections seen in the diffraction patterns. Diffraction occurs when x-rays strike electrons in protein molecules in a crystal at an angle, then bounce off (or diffract) at an angle. This creates a series of reflections as the crystal is rotated in the x-ray beam sightly (between 0.5° and 1° is typical). \n",
    "\n",
    "<center><img src='images/X-Ray.png'\n",
    "     align='middle'\n",
    "     width='400'/> </center>\n",
    "     \n",
    "This results in a pattern of small spots, reflections, or intensities. \n",
    "\n",
    "The electron density is a function derived from a Fourier transform that gets its amplitude terms from the diffraction experiment itself in the form in reflection intensities. The challenge is that the phases are also required to calculate the Fourier transform, and they are lost in the experiment.\n",
    "\n",
    "<center>$p(x,y,z)= \\sum_{i=1}^n\\sum_{i=1}^n\\sum_{i=1}^n F(hkl)e^{-2i \\pi (\\frac{hx}{a} + \\frac{kx}{b} = \\frac{lz}{c})}$</center>"
   ]
  },
  {
   "cell_type": "markdown",
   "metadata": {},
   "source": [
    "Navigate to the online chemistry textbook for additional information on the [Fourier Transform](https://chem.libretexts.org/Bookshelves/Physical_and_Theoretical_Chemistry_Textbook_Maps/Physical_Chemistry_(LibreTexts)/31%3A_Solids_and_Surface_Chemistry/31.05%3A_The_Structure_Factor_and_the_Electron_Density_Are_Related_by_a_Fourier_Transform)\n"
   ]
  },
  {
   "cell_type": "markdown",
   "metadata": {},
   "source": [
    "The electron density is calculated using the reflection intensities (h, k, and l which are intensities represented in reciprocal space). The electron density function in real space is shown to be proportional the electron density in three dimensions:\n",
    "\n",
    "<center>$ F(hkl) \\propto \\int_{-\\infty}^\\infty \\int_{-\\infty}^\\infty \\int_{-\\infty}^\\infty p(x,y,z) e^{-2i \\pi (\\frac{hx}{a} + \\frac{kx}{b} = \\frac{lz}{c})}dxdydz$</center>\n"
   ]
  },
  {
   "cell_type": "markdown",
   "metadata": {},
   "source": [
    "This function is abbreviated by relating the electron density function to the amplitudes and phases. \n",
    "\n",
    "<center>$ F(q) = |F(q)|e^{i\\phi (q)}$</center>\n"
   ]
  },
  {
   "cell_type": "markdown",
   "metadata": {},
   "source": [
    "The phase problem is typically solved using two methods: molecular replacement, and anomalous diffraction methods.\n",
    "\n",
    "Molecular replacement: Conceptually this method is straightforward, and it is the most widely used method for solving the phase problem. Simply put, the phases of an existing protein structure that is believed to be structurally similar to the crystallized protein are used in combination with the amplitudes taken from the new protein structure to make an interpretable electron density map.\n",
    "\n",
    "<center> $ F(q)=|F(q)_\\text {experimental}|^{(\\text {q-comparison structure)}} $ </center>\n",
    "\n",
    "<br> So, we use the amplitudes of the new protein with phases from an old protein believed to be similar in structure. How similar? In general, two protein sequences with high sequence similarity and identity are likely similar in structure too. This can vary, but a comparison protein with >40% identity is likely to be similar enough in structure to be used for molecular replacement. "
   ]
  },
  {
   "cell_type": "markdown",
   "metadata": {},
   "source": [
    "------------\n",
    "## 📖 Submodule 1 - Test Your Knowledge\n",
    "Below are **five** questions addressing the concepts presented throughout this submodule. Please answer the questions below to test what you have learned."
   ]
  },
  {
   "cell_type": "code",
   "execution_count": 2,
   "metadata": {
    "tags": []
   },
   "outputs": [
    {
     "data": {
      "text/html": [
       "\n",
       "        <iframe\n",
       "            width=\"1000\"\n",
       "            height=\"600\"\n",
       "            src=\"quiz_files/submod1/quiz1.html\"\n",
       "            frameborder=\"0\"\n",
       "            allowfullscreen\n",
       "            \n",
       "        ></iframe>\n",
       "        "
      ],
      "text/plain": [
       "<IPython.lib.display.IFrame at 0x7fe07d535b70>"
      ]
     },
     "execution_count": 2,
     "metadata": {},
     "output_type": "execute_result"
    }
   ],
   "source": [
    "#Import display library\n",
    "from IPython.display import IFrame\n",
    "#Display quiz questions\n",
    "IFrame('quiz_files/submod1/quiz1.html', width=1000, height=600)"
   ]
  },
  {
   "cell_type": "markdown",
   "metadata": {},
   "source": [
    "----------\n",
    "## Conclusion\n",
    "In conclusion, this submodule delves into protein X-ray crystallography, emphasizing its role in visualizing biomolecular interactions at atomic resolution. By focusing on key aspects of protein structure relevant to structural biology, we prepare learners to tackle the challenges of protein crystallization and structure solving. The module aims to enhance understanding of how protein structure influences crystallization, familiarize participants with structural biology principles, and improve analysis of enzyme active sites. With a foundational knowledge of general chemistry and protein structure, learners will be well-equipped to apply these insights to the activities carried out in submodules 2 & 3. "
   ]
  },
  {
   "cell_type": "markdown",
   "metadata": {},
   "source": [
    "## Clean Up\n",
    "<div class=\"alert alert-block alert-warning\"> <b>Attention:</b> Remember to shutdown VM and delete any relevant resources</a>. </div>"
   ]
  }
 ],
 "metadata": {
  "kernelspec": {
   "display_name": "conda_python3",
   "language": "python",
   "name": "conda_python3"
  },
  "language_info": {
   "codemirror_mode": {
    "name": "ipython",
    "version": 3
   },
   "file_extension": ".py",
   "mimetype": "text/x-python",
   "name": "python",
   "nbconvert_exporter": "python",
   "pygments_lexer": "ipython3",
   "version": "3.10.16"
  }
 },
 "nbformat": 4,
 "nbformat_minor": 4
}
